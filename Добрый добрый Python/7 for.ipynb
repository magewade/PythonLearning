{
 "cells": [
  {
   "cell_type": "code",
   "execution_count": 2,
   "metadata": {},
   "outputs": [
    {
     "name": "stdout",
     "output_type": "stream",
     "text": [
      "ДА\n"
     ]
    }
   ],
   "source": [
    "city_names = input(\"Введите список названий городов через пробел: \").split()\n",
    "\n",
    "valid_sequence = True\n",
    "\n",
    "for i in range(len(city_names) - 1):\n",
    "    current_city = city_names[i]\n",
    "    next_city = city_names[i + 1]\n",
    "    \n",
    "    # Получение последней буквы текущего города\n",
    "    last_letter = current_city[-1].lower()\n",
    "    \n",
    "    # Если последняя буква - 'ь', 'ъ' или 'ы', берем предыдущую букву\n",
    "    if last_letter in ['ь', 'ъ', 'ы']:\n",
    "        last_letter = current_city[-2].lower()\n",
    "    \n",
    "    # Проверка, начинается ли следующее название города с последней буквы текущего\n",
    "    if next_city[0].lower() != last_letter:\n",
    "        valid_sequence = False\n",
    "        break\n",
    "\n",
    "# Вывод результата\n",
    "if valid_sequence:\n",
    "    print(\"ДА\")\n",
    "else:\n",
    "    print(\"НЕТ\")"
   ]
  },
  {
   "cell_type": "code",
   "execution_count": 3,
   "metadata": {},
   "outputs": [
    {
     "name": "stdout",
     "output_type": "stream",
     "text": [
      "98\n"
     ]
    }
   ],
   "source": [
    "n = int(input())\n",
    "sum = 0\n",
    "for i in range(n):\n",
    "    if (i % 3 == 0 or i % 5 == 0):\n",
    "        sum += i\n",
    "        \n",
    "print(sum)"
   ]
  },
  {
   "cell_type": "code",
   "execution_count": null,
   "metadata": {},
   "outputs": [],
   "source": []
  }
 ],
 "metadata": {
  "kernelspec": {
   "display_name": "MyEnv",
   "language": "python",
   "name": "python3"
  },
  "language_info": {
   "codemirror_mode": {
    "name": "ipython",
    "version": 3
   },
   "file_extension": ".py",
   "mimetype": "text/x-python",
   "name": "python",
   "nbconvert_exporter": "python",
   "pygments_lexer": "ipython3",
   "version": "3.11.2"
  },
  "orig_nbformat": 4
 },
 "nbformat": 4,
 "nbformat_minor": 2
}
