{
 "cells": [
  {
   "cell_type": "code",
   "execution_count": 6,
   "metadata": {},
   "outputs": [
    {
     "name": "stdout",
     "output_type": "stream",
     "text": [
      "-1\n"
     ]
    }
   ],
   "source": [
    "# Барабанщик бил бой в барабан\n",
    "s = list(input().lower())\n",
    "flaf = False\n",
    "empty = True\n",
    "for i, d in enumerate(s):\n",
    "    if d == \"а\" and flag == True:\n",
    "        print(i - 1, end=\" \")\n",
    "        flag = False\n",
    "        empty = False\n",
    "    elif d == \"р\":\n",
    "        flag = True\n",
    "    else:\n",
    "        flag = False\n",
    "        \n",
    "if empty:\n",
    "    print(-1)"
   ]
  },
  {
   "cell_type": "code",
   "execution_count": 13,
   "metadata": {},
   "outputs": [
    {
     "name": "stdout",
     "output_type": "stream",
     "text": [
      "НЕТ\n"
     ]
    }
   ],
   "source": [
    "# +7(123)456-78-99\n",
    "s = input()\n",
    "s_s = list(s)\n",
    "new_s = \"\"\n",
    "for i in s_s:\n",
    "    if str(i).isdigit():\n",
    "        new_s += i\n",
    "        \n",
    "if f\"+7({new_s[1:4]}){new_s[4:7]}-{new_s[7:9]}-{new_s[9:]}\" == s:\n",
    "    print(\"ДА\")\n",
    "else:\n",
    "    print(\"НЕТ\")"
   ]
  },
  {
   "cell_type": "code",
   "execution_count": 14,
   "metadata": {},
   "outputs": [
    {
     "name": "stdout",
     "output_type": "stream",
     "text": [
      "23\n"
     ]
    }
   ],
   "source": [
    "# Sample Input:\n",
    "# 10+25 - 12\n",
    "# Sample Output:\n",
    "# 23\n",
    "print(eval(input()))"
   ]
  },
  {
   "cell_type": "code",
   "execution_count": 18,
   "metadata": {},
   "outputs": [
    {
     "name": "stdout",
     "output_type": "stream",
     "text": [
      "64 121 16 9 36 "
     ]
    }
   ],
   "source": [
    "# Sample Input:\n",
    "# 8 -11 4 3 6\n",
    "# Sample Output:\n",
    "# 64 121 16 9 36\n",
    "s = list(input().split())\n",
    "for i, d in enumerate(s):\n",
    "    s[i] = int(d)**2\n",
    "    print(s[i], end=\" \")"
   ]
  },
  {
   "cell_type": "code",
   "execution_count": 23,
   "metadata": {},
   "outputs": [
    {
     "name": "stdout",
     "output_type": "stream",
     "text": [
      "8 8 11 11 2 2\n"
     ]
    }
   ],
   "source": [
    "# Sample Input:\n",
    "# 8 11 2\n",
    "# Sample Output:\n",
    "# 8 8 11 11 2 2\n",
    "s = list(input().split())\n",
    "result = []\n",
    "for d in s:\n",
    "    result.append(d + \" \" + d)\n",
    "print(*result)"
   ]
  },
  {
   "cell_type": "code",
   "execution_count": 24,
   "metadata": {},
   "outputs": [
    {
     "name": "stdout",
     "output_type": "stream",
     "text": [
      "-10.0\n"
     ]
    }
   ],
   "source": [
    "# Sample Input:\n",
    "# 8.6 9.11 -4.567 -10.0 1.45\n",
    "# Sample Output:\n",
    "# -10.0\n",
    "s = input().split()\n",
    "minimum = s[0]\n",
    "for d in s:\n",
    "    if float(d) < float(minimum):\n",
    "        minimum = d\n",
    "print(minimum)"
   ]
  },
  {
   "cell_type": "code",
   "execution_count": 26,
   "metadata": {},
   "outputs": [
    {
     "name": "stdout",
     "output_type": "stream",
     "text": [
      "-1.0 3.5 6.89 -1.0\n"
     ]
    }
   ],
   "source": [
    "# -5.67 3.5 6.89 -3.0\n",
    "# Sample Output:\n",
    "# -1.0 3.5 6.89 -1.0\n",
    "s = list(map(float, input().split()))\n",
    "for i, d in enumerate(s):\n",
    "    if d < 0:\n",
    "        s[i] = -1.0\n",
    "print(*s)"
   ]
  },
  {
   "cell_type": "code",
   "execution_count": 1,
   "metadata": {},
   "outputs": [
    {
     "name": "stdout",
     "output_type": "stream",
     "text": [
      "Москва\n",
      "Лондон\n"
     ]
    }
   ],
   "source": [
    "# Sample Input:\n",
    "# Москва Лондон Берлин Пекин\n",
    "# Sample Output:\n",
    "# Москва\n",
    "# Лондон\n",
    "s = list(input().split())\n",
    "it = iter(s)\n",
    "print(next(it))\n",
    "print(next(it))"
   ]
  },
  {
   "cell_type": "code",
   "execution_count": 11,
   "metadata": {},
   "outputs": [
    {
     "name": "stdout",
     "output_type": "stream",
     "text": [
      "['В', 'о', 'з', 'м', 'о', 'ж', 'н', 'о', '-', 'э', 'т', 'о', ' ', 'б', 'у', 'д', 'е', 'т', ' ', 'п', 'о', 'л', 'е', 'з', 'н', 'о']\n",
      "Возможно-это"
     ]
    }
   ],
   "source": [
    "# Sample Input:\n",
    "# Возможно-это будет полезно\n",
    "# Sample Output:\n",
    "# Возможно-это\n",
    "s = list(input())\n",
    "it = iter(s)\n",
    "while True:\n",
    "    temp = next(it)\n",
    "    if temp != \" \":\n",
    "        print(temp, end=\"\")\n",
    "    else:\n",
    "        break"
   ]
  },
  {
   "cell_type": "code",
   "execution_count": 15,
   "metadata": {},
   "outputs": [
    {
     "name": "stdout",
     "output_type": "stream",
     "text": [
      "2 6 3 4 "
     ]
    }
   ],
   "source": [
    "# Sample Input:\n",
    "# 4387\n",
    "# Sample Output:\n",
    "# 4 3 8 7\n",
    "it = iter(input())\n",
    "i = next(it, '.')\n",
    "while i != '.':\n",
    "    print(i, end=' ')\n",
    "    i = next(it, '.')"
   ]
  },
  {
   "cell_type": "code",
   "execution_count": null,
   "metadata": {},
   "outputs": [],
   "source": []
  }
 ],
 "metadata": {
  "kernelspec": {
   "display_name": "MyEnv",
   "language": "python",
   "name": "python3"
  },
  "language_info": {
   "codemirror_mode": {
    "name": "ipython",
    "version": 3
   },
   "file_extension": ".py",
   "mimetype": "text/x-python",
   "name": "python",
   "nbconvert_exporter": "python",
   "pygments_lexer": "ipython3",
   "version": "3.11.2"
  },
  "orig_nbformat": 4
 },
 "nbformat": 4,
 "nbformat_minor": 2
}
