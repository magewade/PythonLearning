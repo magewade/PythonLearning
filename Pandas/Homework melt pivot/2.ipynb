{
 "cells": [
  {
   "cell_type": "code",
   "execution_count": 6,
   "metadata": {},
   "outputs": [],
   "source": [
    "import pandas as pd\n",
    "import sqlite3"
   ]
  },
  {
   "cell_type": "code",
   "execution_count": 2,
   "metadata": {},
   "outputs": [],
   "source": [
    "main = pd.read_csv(\"main.csv\")"
   ]
  },
  {
   "cell_type": "code",
   "execution_count": 11,
   "metadata": {},
   "outputs": [],
   "source": [
    "net_property = pd.read_csv(\"net_property.csv\")"
   ]
  },
  {
   "cell_type": "code",
   "execution_count": 4,
   "metadata": {},
   "outputs": [],
   "source": [
    "type_property = pd.read_csv(\"type_property.csv\")"
   ]
  },
  {
   "cell_type": "code",
   "execution_count": 8,
   "metadata": {},
   "outputs": [],
   "source": [
    "# Устанавливаем подключение к базе данных SQLite\n",
    "conn = sqlite3.connect('indicators_db.sqlite3')\n",
    "\n",
    "# Выполняем SQL-запрос и считываем результат в датафрейм\n",
    "query = \"SELECT * FROM org_indicators_2019\"\n",
    "df_2019 = pd.read_sql_query(query, conn)\n",
    "query = \"SELECT * FROM org_indicators_2020_2022\"\n",
    "df_2020 = pd.read_sql_query(query, conn)\n",
    "\n",
    "def collapse_columns(df):\n",
    "    df = df.copy()\n",
    "    if isinstance(df.columns, pd.MultiIndex):\n",
    "        df.columns = df.columns.to_series().apply(lambda x: \"_\".join([str(i) for i in x]))\n",
    "    return df\n",
    "\n",
    "# Закрываем соединение с базой данных\n",
    "conn.close()\n",
    "\n",
    "df_2019 = df_2019.pivot(index=\"ID\", values=\"VALUE\", columns=[\"YEAR\", \"INDICATOR_NAME\"])\n",
    "df_2019 = df_2019.reset_index()\n",
    "df_2019 = collapse_columns(df_2019)\n",
    "df_2019 = df_2019.rename(columns={\"ID_\": \"ID\"}) \n",
    "df_2020 = df_2020.pivot(index=\"ID\", values=\"VALUE\", columns=[\"YEAR\", \"INDICATOR_NAME\"])\n",
    "df_2020 = df_2020.reset_index()\n",
    "df_2020 = collapse_columns(df_2020)\n",
    "df_2020 = df_2020.rename(columns={\"ID_\": \"ID\"}) \n"
   ]
  },
  {
   "cell_type": "code",
   "execution_count": 9,
   "metadata": {},
   "outputs": [],
   "source": [
    "df_2021_money = df_2020[[\"ID\", \"2021_Выручка\"]]"
   ]
  },
  {
   "cell_type": "code",
   "execution_count": 16,
   "metadata": {},
   "outputs": [],
   "source": [
    "df_5 = pd.merge(main, net_property, how=\"outer\")\n",
    "df_5 = pd.merge(df_5, type_property, how=\"outer\")\n",
    "df_5 = pd.merge(df_5, df_2021_money, how=\"outer\")"
   ]
  },
  {
   "cell_type": "code",
   "execution_count": 17,
   "metadata": {},
   "outputs": [],
   "source": [
    "df_5 = df_5.drop_duplicates()"
   ]
  },
  {
   "cell_type": "code",
   "execution_count": 18,
   "metadata": {},
   "outputs": [],
   "source": [
    "df_5_net = df_5[(df_5['TypeObject']=='кафе') & (df_5['is_actual']==True) & (df_5['IsNetObject']=='да')]"
   ]
  },
  {
   "cell_type": "code",
   "execution_count": 19,
   "metadata": {},
   "outputs": [],
   "source": [
    "df_5_notnet = df_5[(df_5['TypeObject']=='кафе') & (df_5['is_actual']==True) & (df_5['IsNetObject']=='нет')]"
   ]
  },
  {
   "cell_type": "code",
   "execution_count": 58,
   "metadata": {},
   "outputs": [
    {
     "data": {
      "text/plain": [
       "-9165261214.0"
      ]
     },
     "execution_count": 58,
     "metadata": {},
     "output_type": "execute_result"
    }
   ],
   "source": [
    "df_5_net[\"2021_Выручка\"].sum() - df_5_notnet[\"2021_Выручка\"].sum()"
   ]
  },
  {
   "cell_type": "code",
   "execution_count": 100,
   "metadata": {},
   "outputs": [],
   "source": [
    "\n",
    "df_2020_check = df_2020[[\"ID\", \"2021_Проверок\", \"2022_Проверок\"]]"
   ]
  },
  {
   "cell_type": "code",
   "execution_count": 101,
   "metadata": {},
   "outputs": [],
   "source": [
    "df_6 = pd.merge(main[[\"ID\", \"Name\", \"Address\"]], df_2020_check, how=\"left\")"
   ]
  },
  {
   "cell_type": "code",
   "execution_count": 102,
   "metadata": {},
   "outputs": [],
   "source": [
    "columns_to_check = [\"2021_Проверок\", \"2022_Проверок\"]"
   ]
  },
  {
   "cell_type": "code",
   "execution_count": 104,
   "metadata": {},
   "outputs": [],
   "source": [
    "df_6 = df_6[((df_6[\"2021_Проверок\"].isna()) & (df_6[\"2022_Проверок\"].isna())) |\n",
    "        ((df_6[\"2021_Проверок\"].isna()) & (df_6[\"2022_Проверок\"] == 0)) |\n",
    "    ((df_6[\"2021_Проверок\"] == 0) & (df_6[\"2022_Проверок\"].isna()) |\n",
    " ((df_6[\"2021_Проверок\"] == 0) & (df_6[\"2022_Проверок\"] == 0)))]\n"
   ]
  },
  {
   "cell_type": "code",
   "execution_count": 93,
   "metadata": {},
   "outputs": [],
   "source": [
    "df_6 = df_6.sort_values([\"Address\", \"ID\"], ascending=[True, True])"
   ]
  },
  {
   "cell_type": "code",
   "execution_count": 94,
   "metadata": {},
   "outputs": [],
   "source": [
    "result_df = df_6.drop(columns=[\"2021_Проверок\", \"2022_Проверок\"])"
   ]
  },
  {
   "cell_type": "code",
   "execution_count": 95,
   "metadata": {},
   "outputs": [],
   "source": [
    "result_df.columns = ['Идентификатор', 'Наименование', 'Адрес']\n",
    "result_df = result_df.drop_duplicates()"
   ]
  },
  {
   "cell_type": "code",
   "execution_count": 90,
   "metadata": {},
   "outputs": [],
   "source": [
    "result_df.to_csv(\"df_6.csv\", index=False)"
   ]
  },
  {
   "cell_type": "code",
   "execution_count": null,
   "metadata": {},
   "outputs": [],
   "source": []
  }
 ],
 "metadata": {
  "kernelspec": {
   "display_name": "MyEnv",
   "language": "python",
   "name": "python3"
  },
  "language_info": {
   "codemirror_mode": {
    "name": "ipython",
    "version": 3
   },
   "file_extension": ".py",
   "mimetype": "text/x-python",
   "name": "python",
   "nbconvert_exporter": "python",
   "pygments_lexer": "ipython3",
   "version": "3.11.2"
  },
  "orig_nbformat": 4
 },
 "nbformat": 4,
 "nbformat_minor": 2
}
