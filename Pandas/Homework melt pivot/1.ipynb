{
 "cells": [
  {
   "cell_type": "code",
   "execution_count": 84,
   "metadata": {},
   "outputs": [],
   "source": [
    "import pandas as pd\n",
    "import sqlite3"
   ]
  },
  {
   "cell_type": "code",
   "execution_count": 85,
   "metadata": {},
   "outputs": [
    {
     "name": "stdout",
     "output_type": "stream",
     "text": [
      "          ID  2019_Число сотрудников  2019_Оценка на Яндекс  2019_Налоги   \n",
      "0      19630                     7.0                    3.0          NaN  \\\n",
      "1      19643                     NaN                    2.0          NaN   \n",
      "2      19647                    14.0                    3.0          NaN   \n",
      "3      19657                     NaN                    1.0     659466.0   \n",
      "4      19677                     NaN                    NaN     359672.0   \n",
      "...      ...                     ...                    ...          ...   \n",
      "9995  375884                     7.0                    1.0     353090.0   \n",
      "9996  375933                     NaN                    2.0     241986.0   \n",
      "9997  375954                    17.0                    2.0          NaN   \n",
      "9998  375956                    17.0                    NaN          NaN   \n",
      "9999  375960                     NaN                    2.0          NaN   \n",
      "\n",
      "      2019_Выручка  2019_Оценка на 2GIS  2019_Проверок  \n",
      "0       20522186.0                  2.0            NaN  \n",
      "1       20577873.0                  4.0            1.0  \n",
      "2              NaN                  4.0            5.0  \n",
      "3              NaN                  4.0            0.0  \n",
      "4       34723333.0                  3.0            4.0  \n",
      "...            ...                  ...            ...  \n",
      "9995           NaN                  2.0            NaN  \n",
      "9996           NaN                  1.0            2.0  \n",
      "9997    21503857.0                  2.0            NaN  \n",
      "9998    25910529.0                  2.0            2.0  \n",
      "9999    29972121.0                  2.0            0.0  \n",
      "\n",
      "[10000 rows x 7 columns]\n",
      "          ID  2020_Выручка  2020_Оценка на Яндекс  2020_Налоги   \n",
      "0      19630    31222228.0                    4.0     552636.0  \\\n",
      "1      19643    35670701.0                    1.0          NaN   \n",
      "2      19647    34926614.0                    NaN     616861.0   \n",
      "3      19657    23410468.0                    4.0          NaN   \n",
      "4      19677           NaN                    1.0     500494.0   \n",
      "...      ...           ...                    ...          ...   \n",
      "9995  375884           NaN                    2.0          NaN   \n",
      "9996  375933    36102422.0                    2.0          NaN   \n",
      "9997  375954           NaN                    NaN     286080.0   \n",
      "9998  375956           NaN                    1.0     122959.0   \n",
      "9999  375960           NaN                    4.0          NaN   \n",
      "\n",
      "      2020_Оценка на 2GIS  2020_Проверок  2020_Число сотрудников   \n",
      "0                     4.0            NaN                     NaN  \\\n",
      "1                     4.0            NaN                    17.0   \n",
      "2                     1.0            NaN                    16.0   \n",
      "3                     3.0            2.0                     NaN   \n",
      "4                     NaN            8.0                    17.0   \n",
      "...                   ...            ...                     ...   \n",
      "9995                  4.0            8.0                     8.0   \n",
      "9996                  4.0            8.0                     NaN   \n",
      "9997                  3.0            9.0                    16.0   \n",
      "9998                  2.0            7.0                     NaN   \n",
      "9999                  4.0            2.0                    13.0   \n",
      "\n",
      "      2021_Оценка на Яндекс  2021_Оценка на 2GIS  2021_Выручка  2021_Проверок   \n",
      "0                       NaN                  3.0    21721921.0            NaN  \\\n",
      "1                       1.0                  3.0    39125612.0            9.0   \n",
      "2                       NaN                  NaN    23176004.0            2.0   \n",
      "3                       2.0                  NaN    28065717.0            0.0   \n",
      "4                       2.0                  1.0    30803884.0            NaN   \n",
      "...                     ...                  ...           ...            ...   \n",
      "9995                    4.0                  4.0    32408516.0            NaN   \n",
      "9996                    4.0                  NaN    21245735.0            4.0   \n",
      "9997                    4.0                  3.0           NaN            4.0   \n",
      "9998                    4.0                  3.0    32178479.0            5.0   \n",
      "9999                    4.0                  NaN    39567594.0            6.0   \n",
      "\n",
      "      2021_Число сотрудников  2021_Налоги  2022_Число сотрудников   \n",
      "0                       15.0     741822.0                     9.0  \\\n",
      "1                        NaN          NaN                     NaN   \n",
      "2                       15.0     770743.0                     NaN   \n",
      "3                        8.0          NaN                    12.0   \n",
      "4                        9.0          NaN                     NaN   \n",
      "...                      ...          ...                     ...   \n",
      "9995                    10.0          NaN                     7.0   \n",
      "9996                    16.0          NaN                     NaN   \n",
      "9997                     NaN     647285.0                    11.0   \n",
      "9998                     NaN          NaN                     6.0   \n",
      "9999                     NaN     716655.0                     NaN   \n",
      "\n",
      "      2022_Проверок  2022_Оценка на Яндекс  2022_Выручка  2022_Оценка на 2GIS   \n",
      "0               NaN                    3.0           NaN                  4.0  \\\n",
      "1               7.0                    2.0           NaN                  4.0   \n",
      "2               0.0                    1.0    27925131.0                  1.0   \n",
      "3               NaN                    4.0    36074059.0                  NaN   \n",
      "4               4.0                    1.0    25303592.0                  2.0   \n",
      "...             ...                    ...           ...                  ...   \n",
      "9995            6.0                    NaN           NaN                  2.0   \n",
      "9996            0.0                    3.0    39298414.0                  1.0   \n",
      "9997            NaN                    NaN    20002278.0                  2.0   \n",
      "9998            1.0                    4.0           NaN                  3.0   \n",
      "9999            2.0                    3.0    37986011.0                  1.0   \n",
      "\n",
      "      2022_Налоги  \n",
      "0        612311.0  \n",
      "1        482734.0  \n",
      "2             NaN  \n",
      "3        649863.0  \n",
      "4             NaN  \n",
      "...           ...  \n",
      "9995     391101.0  \n",
      "9996          NaN  \n",
      "9997     685297.0  \n",
      "9998          NaN  \n",
      "9999          NaN  \n",
      "\n",
      "[10000 rows x 19 columns]\n"
     ]
    }
   ],
   "source": [
    "# Устанавливаем подключение к базе данных SQLite\n",
    "conn = sqlite3.connect('indicators_db.sqlite3')\n",
    "\n",
    "# Выполняем SQL-запрос и считываем результат в датафрейм\n",
    "query = \"SELECT * FROM org_indicators_2019\"\n",
    "df_2019 = pd.read_sql_query(query, conn)\n",
    "query = \"SELECT * FROM org_indicators_2020_2022\"\n",
    "df_2020 = pd.read_sql_query(query, conn)\n",
    "\n",
    "def collapse_columns(df):\n",
    "    df = df.copy()\n",
    "    if isinstance(df.columns, pd.MultiIndex):\n",
    "        df.columns = df.columns.to_series().apply(lambda x: \"_\".join([str(i) for i in x]))\n",
    "    return df\n",
    "\n",
    "# Закрываем соединение с базой данных\n",
    "conn.close()\n",
    "\n",
    "df_2019 = df_2019.pivot(index=\"ID\", values=\"VALUE\", columns=[\"YEAR\", \"INDICATOR_NAME\"])\n",
    "df_2019 = df_2019.reset_index()\n",
    "df_2019 = collapse_columns(df_2019)\n",
    "df_2019 = df_2019.rename(columns={\"ID_\": \"ID\"}) \n",
    "df_2020 = df_2020.pivot(index=\"ID\", values=\"VALUE\", columns=[\"YEAR\", \"INDICATOR_NAME\"])\n",
    "df_2020 = df_2020.reset_index()\n",
    "df_2020 = collapse_columns(df_2020)\n",
    "df_2020 = df_2020.rename(columns={\"ID_\": \"ID\"}) \n",
    "# Выводим содержимое датафрейма\n",
    "print(df_2019)\n",
    "print(df_2020)"
   ]
  },
  {
   "cell_type": "code",
   "execution_count": 86,
   "metadata": {},
   "outputs": [],
   "source": [
    "main = pd.read_csv(\"main.csv\")"
   ]
  },
  {
   "cell_type": "code",
   "execution_count": 87,
   "metadata": {},
   "outputs": [],
   "source": [
    "df_1 = pd.merge(main, df_2020, how=\"left\", on=\"ID\")"
   ]
  },
  {
   "cell_type": "code",
   "execution_count": 91,
   "metadata": {},
   "outputs": [],
   "source": [
    "df_1_1 = df_1[[\"ID\", \"Name\", \"Address\", \"2020_Выручка\", \"2021_Выручка\", \"2022_Выручка\", \"2020_Число сотрудников\", \"2021_Число сотрудников\", \"2022_Число сотрудников\"]]"
   ]
  },
  {
   "cell_type": "code",
   "execution_count": 92,
   "metadata": {},
   "outputs": [
    {
     "name": "stderr",
     "output_type": "stream",
     "text": [
      "/var/folders/sr/p3kpr51n4hs1q5w3zd7p_j0c0000gn/T/ipykernel_39835/3696649753.py:1: SettingWithCopyWarning: \n",
      "A value is trying to be set on a copy of a slice from a DataFrame.\n",
      "Try using .loc[row_indexer,col_indexer] = value instead\n",
      "\n",
      "See the caveats in the documentation: https://pandas.pydata.org/pandas-docs/stable/user_guide/indexing.html#returning-a-view-versus-a-copy\n",
      "  df_1_1[\"Дельта по выручке\"] = df_1_1[\"2022_Выручка\"] - df_1_1[\"2020_Выручка\"]\n",
      "/var/folders/sr/p3kpr51n4hs1q5w3zd7p_j0c0000gn/T/ipykernel_39835/3696649753.py:2: SettingWithCopyWarning: \n",
      "A value is trying to be set on a copy of a slice from a DataFrame.\n",
      "Try using .loc[row_indexer,col_indexer] = value instead\n",
      "\n",
      "See the caveats in the documentation: https://pandas.pydata.org/pandas-docs/stable/user_guide/indexing.html#returning-a-view-versus-a-copy\n",
      "  df_1_1[\"Дельта по сотрудникам\"] = df_1_1[\"2022_Число сотрудников\"] - df_1_1[\"2020_Число сотрудников\"]\n"
     ]
    }
   ],
   "source": [
    "df_1_1[\"Дельта по выручке\"] = df_1_1[\"2022_Выручка\"] - df_1_1[\"2020_Выручка\"]\n",
    "df_1_1[\"Дельта по сотрудникам\"] = df_1_1[\"2022_Число сотрудников\"] - df_1_1[\"2020_Число сотрудников\"]"
   ]
  },
  {
   "cell_type": "code",
   "execution_count": 94,
   "metadata": {},
   "outputs": [],
   "source": [
    "df_1_1 = df_1_1.dropna(subset=[\"Дельта по выручке\", \"Дельта по сотрудникам\"])"
   ]
  },
  {
   "cell_type": "code",
   "execution_count": 99,
   "metadata": {},
   "outputs": [],
   "source": [
    "df_1_1 = df_1_1.sort_values([\"Дельта по выручке\", \"ID\"], ascending=[False, True])"
   ]
  },
  {
   "cell_type": "code",
   "execution_count": 106,
   "metadata": {},
   "outputs": [],
   "source": [
    "df_1_1= df_1_1[['ID', 'Name', 'Address', '2020_Выручка', '2021_Выручка', '2022_Выручка','Дельта по выручке', \n",
    "            '2020_Число сотрудников', '2021_Число сотрудников', '2022_Число сотрудников', 'Дельта по сотрудникам']]\n",
    "df_1_1.columns = ['Идентификатор', 'Наименование', 'Адрес', 'Выручка 2020', 'Выручка 2021', 'Выручка 2022','Дельта по выручке', \n",
    "            'Число сотрудников 2020', 'Число сотрудников 2021', 'Число сотрудников 2022', 'Дельта по сотрудникам']"
   ]
  },
  {
   "cell_type": "code",
   "execution_count": 128,
   "metadata": {},
   "outputs": [],
   "source": [
    "df_1_1.to_csv(\"df_2.csv\", index=False)"
   ]
  },
  {
   "cell_type": "code",
   "execution_count": 143,
   "metadata": {},
   "outputs": [],
   "source": [
    "list = [357706, 198181, 27549, 217895, 201139, 357706, 20105]\n",
    "list = pd.Series(list)\n",
    "list_2 = pd.read_excel(\"Выручка_по_компаниям.xlsx\", sheet_name=\"Лист1\")"
   ]
  },
  {
   "cell_type": "code",
   "execution_count": 144,
   "metadata": {},
   "outputs": [],
   "source": [
    "list_2 = pd.concat([list_2[\"Айдии\"], list], ignore_index=True)"
   ]
  },
  {
   "cell_type": "code",
   "execution_count": 149,
   "metadata": {},
   "outputs": [],
   "source": [
    "list_2 = pd.DataFrame(data=list_2)\n",
    "list_2 = list_2.rename(columns={0 : \"ID\"})"
   ]
  },
  {
   "cell_type": "code",
   "execution_count": 150,
   "metadata": {},
   "outputs": [],
   "source": [
    "df_2 = pd.merge(list_2, df_2020, how=\"left\")"
   ]
  },
  {
   "cell_type": "code",
   "execution_count": 154,
   "metadata": {},
   "outputs": [],
   "source": [
    "df_2 = df_2[['ID', '2020_Выручка', '2021_Выручка', '2022_Выручка']]"
   ]
  },
  {
   "cell_type": "code",
   "execution_count": 157,
   "metadata": {},
   "outputs": [],
   "source": [
    "df_2['2022_Выручка'] = df_2['2022_Выручка'].combine_first(df_2['2020_Выручка'])"
   ]
  },
  {
   "cell_type": "code",
   "execution_count": 160,
   "metadata": {},
   "outputs": [],
   "source": [
    "df_2 = df_2.drop_duplicates()"
   ]
  },
  {
   "cell_type": "code",
   "execution_count": 162,
   "metadata": {},
   "outputs": [
    {
     "data": {
      "text/plain": [
       "ID               25914059.0\n",
       "2020_Выручка    268354937.0\n",
       "2021_Выручка    300355984.0\n",
       "2022_Выручка    462125109.0\n",
       "dtype: float64"
      ]
     },
     "execution_count": 162,
     "metadata": {},
     "output_type": "execute_result"
    }
   ],
   "source": [
    "df_2.sum() + 22495241"
   ]
  },
  {
   "cell_type": "code",
   "execution_count": 187,
   "metadata": {},
   "outputs": [],
   "source": [
    "df_3_2019 = df_2019[[\"ID\", \"2019_Число сотрудников\"]]"
   ]
  },
  {
   "cell_type": "code",
   "execution_count": 188,
   "metadata": {},
   "outputs": [],
   "source": [
    "df_3_2020 = df_2020[[\"ID\", \"2020_Число сотрудников\"]]"
   ]
  },
  {
   "cell_type": "code",
   "execution_count": 189,
   "metadata": {},
   "outputs": [],
   "source": [
    "df_3 = pd.merge(df_3_2019, df_3_2020, how=\"outer\")"
   ]
  },
  {
   "cell_type": "code",
   "execution_count": 190,
   "metadata": {},
   "outputs": [],
   "source": [
    "df_3[\"2020_Число сотрудников\"] = df_3[\"2020_Число сотрудников\"].combine_first(df_3[\"2019_Число сотрудников\"])"
   ]
  },
  {
   "cell_type": "code",
   "execution_count": 191,
   "metadata": {},
   "outputs": [],
   "source": [
    "df_3 = df_3[df_3[\"2020_Число сотрудников\"] >= 15]"
   ]
  },
  {
   "cell_type": "code",
   "execution_count": 192,
   "metadata": {},
   "outputs": [],
   "source": [
    "df_3 = df_3.drop_duplicates()"
   ]
  },
  {
   "cell_type": "code",
   "execution_count": 193,
   "metadata": {},
   "outputs": [],
   "source": [
    "df_3 = df_3.drop(columns=\"2019_Число сотрудников\")"
   ]
  },
  {
   "cell_type": "code",
   "execution_count": 194,
   "metadata": {},
   "outputs": [],
   "source": [
    "df_3.columns = ['Идентификатор', 'Сотрудники 2019_2020']\n",
    "df_3['Сотрудники 2019_2020'] = df_3['Сотрудники 2019_2020'].astype(int)"
   ]
  },
  {
   "cell_type": "code",
   "execution_count": 195,
   "metadata": {},
   "outputs": [],
   "source": [
    "df_3 = df_3.sort_values([\"Сотрудники 2019_2020\", \"Идентификатор\"], ascending=[True, False])"
   ]
  },
  {
   "cell_type": "code",
   "execution_count": 196,
   "metadata": {},
   "outputs": [],
   "source": [
    "df_3.to_csv(\"df_3.csv\", index=False)"
   ]
  },
  {
   "cell_type": "code",
   "execution_count": 214,
   "metadata": {},
   "outputs": [],
   "source": [
    "df_2019_nalog = df_2019[[\"ID\", \"2019_Налоги\"]]"
   ]
  },
  {
   "cell_type": "code",
   "execution_count": 215,
   "metadata": {},
   "outputs": [],
   "source": [
    "df_2020_nalog = df_2020[[\"ID\", \"2020_Налоги\", \"2021_Налоги\", \"2022_Налоги\"]]"
   ]
  },
  {
   "cell_type": "code",
   "execution_count": 216,
   "metadata": {},
   "outputs": [],
   "source": [
    "df_4 = pd.merge(main[[\"ID\", \"Name\", \"Address\"]], df_2019_nalog, how=\"outer\")"
   ]
  },
  {
   "cell_type": "code",
   "execution_count": 217,
   "metadata": {},
   "outputs": [],
   "source": [
    "df_4 = pd.merge(df_4, df_2020_nalog, how=\"outer\")"
   ]
  },
  {
   "cell_type": "code",
   "execution_count": 218,
   "metadata": {},
   "outputs": [],
   "source": [
    "df_4 = df_4.dropna()"
   ]
  },
  {
   "cell_type": "code",
   "execution_count": 219,
   "metadata": {},
   "outputs": [],
   "source": [
    "df_4[\"Налоги (Всего)\"] = df_4[\"2019_Налоги\"] + df_4[\"2020_Налоги\"] + df_4[\"2021_Налоги\"] + df_4[\"2022_Налоги\"]"
   ]
  },
  {
   "cell_type": "code",
   "execution_count": 220,
   "metadata": {},
   "outputs": [],
   "source": [
    "df_4 = df_4.sort_values(\"Налоги (Всего)\", ascending=False)\n",
    "df_4 = df_4.drop_duplicates()\n",
    "df_4.columns = ['Идентификатор', 'Наименование', 'Адрес', 'Налоги (2019 г.)', 'Налоги (2020 г.)', 'Налоги (2021 г.)', 'Налоги (2022 г.)', \"Налоги (Всего)\"]"
   ]
  },
  {
   "cell_type": "code",
   "execution_count": 221,
   "metadata": {},
   "outputs": [],
   "source": [
    "df_4[:10].to_csv(\"df_4.csv\", index=False)"
   ]
  },
  {
   "cell_type": "code",
   "execution_count": null,
   "metadata": {},
   "outputs": [],
   "source": []
  }
 ],
 "metadata": {
  "kernelspec": {
   "display_name": "MyEnv",
   "language": "python",
   "name": "python3"
  },
  "language_info": {
   "codemirror_mode": {
    "name": "ipython",
    "version": 3
   },
   "file_extension": ".py",
   "mimetype": "text/x-python",
   "name": "python",
   "nbconvert_exporter": "python",
   "pygments_lexer": "ipython3",
   "version": "3.11.2"
  },
  "orig_nbformat": 4
 },
 "nbformat": 4,
 "nbformat_minor": 2
}
