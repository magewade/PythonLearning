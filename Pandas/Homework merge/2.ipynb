{
 "cells": [
  {
   "cell_type": "code",
   "execution_count": 74,
   "metadata": {},
   "outputs": [],
   "source": [
    "import pandas as pd"
   ]
  },
  {
   "cell_type": "code",
   "execution_count": 76,
   "metadata": {},
   "outputs": [],
   "source": [
    "main = pd.read_csv(\"main.csv\")\n",
    "net_property = pd.read_csv(\"net_property.csv\")\n",
    "seats_property = pd.read_csv(\"seats_property.csv\")\n",
    "type_property = pd.read_csv(\"type_property.csv\")\n",
    "seats_property = seats_property.sort_values(by=['ID', 'ver_ID'], ascending=[True, True])\n",
    "seats_property = seats_property.drop_duplicates(keep=\"last\")\n",
    "seats_property = seats_property.drop_duplicates([\"ID\"], keep=\"last\")"
   ]
  },
  {
   "cell_type": "code",
   "execution_count": 78,
   "metadata": {},
   "outputs": [],
   "source": [
    "df = pd.merge(main, net_property, how=\"left\", on=\"ID\")\n",
    "df = pd.merge(df, seats_property, how=\"left\", on=\"ID\")\n",
    "df = pd.merge(df, type_property, how=\"left\", on=\"ID\")"
   ]
  },
  {
   "cell_type": "code",
   "execution_count": 79,
   "metadata": {},
   "outputs": [],
   "source": [
    "df = df.drop_duplicates(keep=\"last\")"
   ]
  },
  {
   "cell_type": "code",
   "execution_count": 80,
   "metadata": {},
   "outputs": [],
   "source": [
    "df_1 = df[(df['IsNetObject']=='да') & (df['is_actual']==True) & (df['TypeObject'] == 'кафе')]\n",
    "df_1 = df_1.dropna(subset=[\"SeatsCount\", \"ver_ID\"])"
   ]
  },
  {
   "cell_type": "code",
   "execution_count": 81,
   "metadata": {},
   "outputs": [
    {
     "name": "stdout",
     "output_type": "stream",
     "text": [
      "Группа 0-5: 2 объектов\n",
      "Группа 6-15: 12 объектов\n",
      "Группа 16-25: 10 объектов\n",
      "Группа 26+: 46 объектов\n"
     ]
    }
   ],
   "source": [
    "bins = [-1, 5, 15, 25, float('inf')]\n",
    "labels = ['0-5', '6-15', '16-25', '26+']\n",
    "df_1['seats_category'] = pd.cut(df_1['SeatsCount'], bins=bins, labels=labels)\n",
    "\n",
    "# группируем по категории и выводим на экран количество объектов в каждой категории\n",
    "grouped = df_1.groupby('seats_category')\n",
    "for name, group in grouped:\n",
    "    print(f\"Группа {name}: {len(group)} объектов\")\n"
   ]
  },
  {
   "cell_type": "code",
   "execution_count": 95,
   "metadata": {},
   "outputs": [],
   "source": [
    "main = pd.read_csv(\"main.csv\")\n",
    "net_property = pd.read_csv(\"net_property.csv\")\n",
    "type_property = pd.read_csv(\"type_property.csv\")"
   ]
  },
  {
   "cell_type": "code",
   "execution_count": null,
   "metadata": {},
   "outputs": [],
   "source": []
  },
  {
   "cell_type": "code",
   "execution_count": 96,
   "metadata": {},
   "outputs": [],
   "source": [
    "df_2 = pd.merge(net_property, type_property, how=\"left\", on=\"ID\")"
   ]
  },
  {
   "cell_type": "code",
   "execution_count": 97,
   "metadata": {},
   "outputs": [],
   "source": [
    "df_2 = pd.merge(df_2, main, how='left', on=\"ID\")"
   ]
  },
  {
   "cell_type": "code",
   "execution_count": 98,
   "metadata": {},
   "outputs": [],
   "source": [
    "df_2 = df_2[(df_2['IsNetObject']=='да') & (df_2['is_actual']==True) & (df_2[\"TypeObject\"]=='кафе')]"
   ]
  },
  {
   "cell_type": "code",
   "execution_count": 104,
   "metadata": {},
   "outputs": [],
   "source": [
    "result = df_2[df_2[\"Address\"].isna()]\n",
    "result = result.sort_values(\"ID\", ascending=False)\n",
    "result = result[\"ID\"]"
   ]
  },
  {
   "cell_type": "code",
   "execution_count": 105,
   "metadata": {},
   "outputs": [],
   "source": [
    "result.to_csv(\"df_2_result.csv\", index=False)"
   ]
  },
  {
   "cell_type": "code",
   "execution_count": 192,
   "metadata": {},
   "outputs": [],
   "source": [
    "address = pd.read_excel(\"Список_адресов.xlsx\", sheet_name=\"Sheet1\", header=1)\n",
    "id_list = pd.read_excel(\"Список_ID.xlsx\", header=1)\n",
    "seats_property = pd.read_csv(\"seats_property.csv\")\n",
    "type_property = pd.read_csv(\"type_property.csv\")\n",
    "address.rename(columns={\"Unnamed: 0\" : \"Address\"}, inplace=True)"
   ]
  },
  {
   "cell_type": "code",
   "execution_count": 193,
   "metadata": {},
   "outputs": [],
   "source": [
    "seats_property = seats_property.sort_values(by=['ID', 'ver_ID'], ascending=[True, True])\n",
    "seats_property = seats_property.drop_duplicates(keep=\"last\")\n",
    "seats_property = seats_property.drop_duplicates([\"ID\"], keep=\"last\")\n",
    "type_property = type_property[type_property[\"is_actual\"] == True]"
   ]
  },
  {
   "cell_type": "code",
   "execution_count": 194,
   "metadata": {},
   "outputs": [],
   "source": [
    "df_3_1 = pd.merge(main, address, how=\"inner\", on=\"Address\")\n",
    "df_3_2 = pd.merge(main, id_list, how=\"inner\", on=\"ID\")"
   ]
  },
  {
   "cell_type": "code",
   "execution_count": 195,
   "metadata": {},
   "outputs": [],
   "source": [
    "df_3 = pd.concat([df_3_1, df_3_2], ignore_index=True)"
   ]
  },
  {
   "cell_type": "code",
   "execution_count": 196,
   "metadata": {},
   "outputs": [],
   "source": [
    "df_3 = pd.merge(df_3, net_property, how=\"left\")\n",
    "df_3 = pd.merge(df_3, seats_property, how=\"left\")\n",
    "df_3 = pd.merge(df_3, type_property, how=\"left\")"
   ]
  },
  {
   "cell_type": "code",
   "execution_count": 197,
   "metadata": {},
   "outputs": [],
   "source": [
    "df_3[\"TypeObject\"] = df_3[\"TypeObject\"].fillna('отсутствует')\n",
    "df_3[\"SeatsCount\"] = df_3[\"SeatsCount\"].fillna(0)"
   ]
  },
  {
   "cell_type": "code",
   "execution_count": 198,
   "metadata": {},
   "outputs": [],
   "source": [
    "df_3 = df_3.drop_duplicates()\n",
    "df_3 = df_3.drop(columns=[\"ver_ID\", \"is_actual\"])"
   ]
  },
  {
   "cell_type": "code",
   "execution_count": 199,
   "metadata": {},
   "outputs": [],
   "source": [
    "# df_3['IsNetObject'] = df_3['IsNetObject'].replace('нет', None)"
   ]
  },
  {
   "cell_type": "code",
   "execution_count": 200,
   "metadata": {},
   "outputs": [],
   "source": [
    "df_3 = df_3.reindex(columns=['ID', 'Name', 'Address',\t'IsNetObject', 'TypeObject', 'SeatsCount'])"
   ]
  },
  {
   "cell_type": "code",
   "execution_count": 201,
   "metadata": {},
   "outputs": [],
   "source": [
    "df_3 = df_3.rename(columns={'ID' : 'Ид', 'Name' : 'Наименование', 'Address' : 'Адрес' ,'IsNetObject' : 'Сетевой?' ,'TypeObject' : 'Специализация', 'SeatsCount' : 'КоличМест'})"
   ]
  },
  {
   "cell_type": "code",
   "execution_count": 202,
   "metadata": {},
   "outputs": [],
   "source": [
    "df_3 = df_3.sort_values('Ид', ascending=False)"
   ]
  },
  {
   "cell_type": "code",
   "execution_count": 203,
   "metadata": {},
   "outputs": [],
   "source": [
    "df_3.to_csv(\"df_3_result.csv\", index=False)"
   ]
  },
  {
   "cell_type": "code",
   "execution_count": 204,
   "metadata": {},
   "outputs": [],
   "source": [
    "df_4 = pd.merge(main, seats_property)"
   ]
  },
  {
   "cell_type": "code",
   "execution_count": 205,
   "metadata": {},
   "outputs": [],
   "source": [
    "result = df_4[df_4[\"Address\"].str.contains(\"86А\")]"
   ]
  },
  {
   "cell_type": "code",
   "execution_count": 207,
   "metadata": {},
   "outputs": [
    {
     "data": {
      "text/plain": [
       "ID                                                      1879025\n",
       "Name          KVARTALOne Price COFFEEО ХОТДОГ Даниель кафеBu...\n",
       "Address       город Москва, проспект Вернадского, дом 86Агор...\n",
       "SeatsCount                                                  238\n",
       "ver_ID                                                       13\n",
       "dtype: object"
      ]
     },
     "execution_count": 207,
     "metadata": {},
     "output_type": "execute_result"
    }
   ],
   "source": [
    "result.sum()"
   ]
  },
  {
   "cell_type": "code",
   "execution_count": null,
   "metadata": {},
   "outputs": [],
   "source": []
  }
 ],
 "metadata": {
  "kernelspec": {
   "display_name": "MyEnv",
   "language": "python",
   "name": "python3"
  },
  "language_info": {
   "codemirror_mode": {
    "name": "ipython",
    "version": 3
   },
   "file_extension": ".py",
   "mimetype": "text/x-python",
   "name": "python",
   "nbconvert_exporter": "python",
   "pygments_lexer": "ipython3",
   "version": "3.11.2"
  },
  "orig_nbformat": 4
 },
 "nbformat": 4,
 "nbformat_minor": 2
}
