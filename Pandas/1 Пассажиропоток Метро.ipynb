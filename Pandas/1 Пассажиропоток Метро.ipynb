{
 "cells": [
  {
   "cell_type": "code",
   "execution_count": 1,
   "metadata": {
    "ExecuteTime": {
     "end_time": "2023-05-04T22:31:35.200479Z",
     "start_time": "2023-05-04T22:31:34.933135Z"
    },
    "collapsed": true
   },
   "outputs": [],
   "source": [
    "import numpy as np\n",
    "import pandas as pd"
   ]
  },
  {
   "cell_type": "code",
   "execution_count": 42,
   "metadata": {
    "ExecuteTime": {
     "end_time": "2023-05-04T23:05:06.638137Z",
     "start_time": "2023-05-04T23:05:06.617331Z"
    },
    "collapsed": false
   },
   "outputs": [],
   "source": [
    "df = pd.read_csv(\"Пассажиропоток_МосМетро_2.csv\", sep=\";\")\n",
    "df = df.drop(index=0)"
   ]
  },
  {
   "cell_type": "code",
   "execution_count": 41,
   "metadata": {
    "ExecuteTime": {
     "end_time": "2023-05-04T22:45:40.298207Z",
     "start_time": "2023-05-04T22:45:40.293824Z"
    },
    "collapsed": false
   },
   "outputs": [
    {
     "name": "stdout",
     "output_type": "stream",
     "text": [
      "957    Комсомольская\n",
      "Name: NameOfStation, dtype: object\n",
      "997731\n",
      "1       1913498\n",
      "2       1236714\n",
      "3       1938816\n",
      "4       1849616\n",
      "5       2324687\n",
      "         ...   \n",
      "1368          0\n",
      "1369          0\n",
      "1370      17991\n",
      "1371     543507\n",
      "1372     726197\n",
      "Name: IncomingPassengers, Length: 1372, dtype: object\n"
     ]
    }
   ],
   "source": [
    "print(df[\"NameOfStation\"][(df[\"Quarter\"] == \"IV квартал\") & (df[\"Year\"] == \"2021\") & (df[\"IncomingPassengers\"].astype(int) == df[\"IncomingPassengers\"].astype(int).max())])\n",
    "print(df[\"IncomingPassengers\"].max())\n",
    "print(df[\"IncomingPassengers\"])"
   ]
  },
  {
   "cell_type": "code",
   "execution_count": 34,
   "metadata": {
    "ExecuteTime": {
     "end_time": "2023-05-04T22:42:35.190279Z",
     "start_time": "2023-05-04T22:42:35.182420Z"
    },
    "collapsed": false
   },
   "outputs": [
    {
     "name": "stdout",
     "output_type": "stream",
     "text": [
      "          NameOfStation                                           Line  Year   \n",
      "1                Митино                      Арбатско-Покровская линия  2021  \\\n",
      "2         Волоколамская                      Арбатско-Покровская линия  2021   \n",
      "3              Строгино                      Арбатско-Покровская линия  2021   \n",
      "4            Крылатское                      Арбатско-Покровская линия  2021   \n",
      "5     Площадь Революции                      Арбатско-Покровская линия  2021   \n",
      "...                 ...                                            ...   ...   \n",
      "1368        Китай-город               Таганско-Краснопресненская линия  2022   \n",
      "1369           Киевская                                Филёвская линия  2022   \n",
      "1370  Улица Милашенкова  Московская монорельсовая транспортная система  2021   \n",
      "1371         Кунцевская                                Филёвская линия  2022   \n",
      "1372         Смоленская                                Филёвская линия  2022   \n",
      "\n",
      "         Quarter IncomingPassengers OutgoingPassengers   global_id   \n",
      "1      I квартал            1913498            1829031  1138975996  \\\n",
      "2      I квартал            1236714            1222309  1138975997   \n",
      "3      I квартал            1938816            1903731  1138975999   \n",
      "4      I квартал            1849616            1818208  1138976000   \n",
      "5      I квартал            2324687            2319343  1138976008   \n",
      "...          ...                ...                ...         ...   \n",
      "1368   I квартал                  0                  0  2363487484   \n",
      "1369   I квартал                  0                  0  2363487549   \n",
      "1370  IV квартал              17991              17295  2363643842   \n",
      "1371   I квартал             543507             529972  2363644363   \n",
      "1372   I квартал             726197             742423  2363644369   \n",
      "\n",
      "     NameOfStation_en Line_en Year_en Quarter_en IncomingPassengers_en   \n",
      "1                 NaN     NaN     NaN        NaN                   NaN  \\\n",
      "2                 NaN     NaN     NaN        NaN                   NaN   \n",
      "3                 NaN     NaN     NaN        NaN                   NaN   \n",
      "4                 NaN     NaN     NaN        NaN                   NaN   \n",
      "5                 NaN     NaN     NaN        NaN                   NaN   \n",
      "...               ...     ...     ...        ...                   ...   \n",
      "1368              NaN     NaN     NaN        NaN                   NaN   \n",
      "1369              NaN     NaN     NaN        NaN                   NaN   \n",
      "1370              NaN     NaN     NaN        NaN                   NaN   \n",
      "1371              NaN     NaN     NaN        NaN                   NaN   \n",
      "1372              NaN     NaN     NaN        NaN                   NaN   \n",
      "\n",
      "     OutgoingPassengers_en  Unnamed: 13  \n",
      "1                      NaN          NaN  \n",
      "2                      NaN          NaN  \n",
      "3                      NaN          NaN  \n",
      "4                      NaN          NaN  \n",
      "5                      NaN          NaN  \n",
      "...                    ...          ...  \n",
      "1368                   NaN          NaN  \n",
      "1369                   NaN          NaN  \n",
      "1370                   NaN          NaN  \n",
      "1371                   NaN          NaN  \n",
      "1372                   NaN          NaN  \n",
      "\n",
      "[1372 rows x 14 columns]\n"
     ]
    }
   ],
   "source": [
    "print(df)"
   ]
  },
  {
   "cell_type": "code",
   "execution_count": 52,
   "metadata": {
    "ExecuteTime": {
     "end_time": "2023-05-04T23:14:42.961102Z",
     "start_time": "2023-05-04T23:14:42.947830Z"
    },
    "collapsed": false
   },
   "outputs": [
    {
     "name": "stdout",
     "output_type": "stream",
     "text": [
      "          NameOfStation                                           Line  Year   \n",
      "0                Митино                      Арбатско-Покровская линия  2021  \\\n",
      "1         Волоколамская                      Арбатско-Покровская линия  2021   \n",
      "2              Строгино                      Арбатско-Покровская линия  2021   \n",
      "3            Крылатское                      Арбатско-Покровская линия  2021   \n",
      "4     Площадь Революции                      Арбатско-Покровская линия  2021   \n",
      "...                 ...                                            ...   ...   \n",
      "1367        Китай-город               Таганско-Краснопресненская линия  2022   \n",
      "1368           Киевская                                Филёвская линия  2022   \n",
      "1369  Улица Милашенкова  Московская монорельсовая транспортная система  2021   \n",
      "1370         Кунцевская                                Филёвская линия  2022   \n",
      "1371         Смоленская                                Филёвская линия  2022   \n",
      "\n",
      "         Quarter  IncomingPassengers  OutgoingPassengers   global_id   \n",
      "0      I квартал             1913498             1829031  1138975996  \\\n",
      "1      I квартал             1236714             1222309  1138975997   \n",
      "2      I квартал             1938816             1903731  1138975999   \n",
      "3      I квартал             1849616             1818208  1138976000   \n",
      "4      I квартал             2324687             2319343  1138976008   \n",
      "...          ...                 ...                 ...         ...   \n",
      "1367   I квартал                   0                   0  2363487484   \n",
      "1368   I квартал                   0                   0  2363487549   \n",
      "1369  IV квартал               17991               17295  2363643842   \n",
      "1370   I квартал              543507              529972  2363644363   \n",
      "1371   I квартал              726197              742423  2363644369   \n",
      "\n",
      "      NameOfStation_en  Line_en  Year_en  Quarter_en  IncomingPassengers_en   \n",
      "0                  NaN      NaN      NaN         NaN                    NaN  \\\n",
      "1                  NaN      NaN      NaN         NaN                    NaN   \n",
      "2                  NaN      NaN      NaN         NaN                    NaN   \n",
      "3                  NaN      NaN      NaN         NaN                    NaN   \n",
      "4                  NaN      NaN      NaN         NaN                    NaN   \n",
      "...                ...      ...      ...         ...                    ...   \n",
      "1367               NaN      NaN      NaN         NaN                    NaN   \n",
      "1368               NaN      NaN      NaN         NaN                    NaN   \n",
      "1369               NaN      NaN      NaN         NaN                    NaN   \n",
      "1370               NaN      NaN      NaN         NaN                    NaN   \n",
      "1371               NaN      NaN      NaN         NaN                    NaN   \n",
      "\n",
      "      OutgoingPassengers_en  Unnamed: 13  \n",
      "0                       NaN          NaN  \n",
      "1                       NaN          NaN  \n",
      "2                       NaN          NaN  \n",
      "3                       NaN          NaN  \n",
      "4                       NaN          NaN  \n",
      "...                     ...          ...  \n",
      "1367                    NaN          NaN  \n",
      "1368                    NaN          NaN  \n",
      "1369                    NaN          NaN  \n",
      "1370                    NaN          NaN  \n",
      "1371                    NaN          NaN  \n",
      "\n",
      "[1372 rows x 14 columns]\n"
     ]
    }
   ],
   "source": [
    "df_2 = pd.read_csv(\"Пассажиропоток_МосМетро_2.csv\", sep=\";\", skiprows=[1])\n",
    "print(df_2)"
   ]
  },
  {
   "cell_type": "code",
   "execution_count": 53,
   "metadata": {
    "ExecuteTime": {
     "end_time": "2023-05-04T23:14:50.567475Z",
     "start_time": "2023-05-04T23:14:50.554387Z"
    },
    "collapsed": false
   },
   "outputs": [
    {
     "name": "stdout",
     "output_type": "stream",
     "text": [
      "2514195123\n"
     ]
    }
   ],
   "source": [
    "print(df_2[\"IncomingPassengers\"].astype(int).sum())"
   ]
  },
  {
   "cell_type": "code",
   "execution_count": 65,
   "metadata": {
    "ExecuteTime": {
     "end_time": "2023-05-04T23:19:28.149068Z",
     "start_time": "2023-05-04T23:19:28.138116Z"
    },
    "collapsed": false
   },
   "outputs": [
    {
     "name": "stdout",
     "output_type": "stream",
     "text": [
      "          NameOfStation                                           Line  Year   \n",
      "0                Митино                      Арбатско-Покровская линия  2021  \\\n",
      "1         Волоколамская                      Арбатско-Покровская линия  2021   \n",
      "2              Строгино                      Арбатско-Покровская линия  2021   \n",
      "3            Крылатское                      Арбатско-Покровская линия  2021   \n",
      "4     Площадь Революции                      Арбатско-Покровская линия  2021   \n",
      "...                 ...                                            ...   ...   \n",
      "1367        Китай-город               Таганско-Краснопресненская линия  2022   \n",
      "1368           Киевская                                Филёвская линия  2022   \n",
      "1369  Улица Милашенкова  Московская монорельсовая транспортная система  2021   \n",
      "1370         Кунцевская                                Филёвская линия  2022   \n",
      "1371         Смоленская                                Филёвская линия  2022   \n",
      "\n",
      "         Quarter  IncomingPassengers  OutgoingPassengers   global_id   \n",
      "0      I квартал           1913498.0           1829031.0  1138975996  \\\n",
      "1      I квартал           1236714.0           1222309.0  1138975997   \n",
      "2      I квартал           1938816.0           1903731.0  1138975999   \n",
      "3      I квартал           1849616.0           1818208.0  1138976000   \n",
      "4      I квартал           2324687.0           2319343.0  1138976008   \n",
      "...          ...                 ...                 ...         ...   \n",
      "1367   I квартал                 NaN                 0.0  2363487484   \n",
      "1368   I квартал                 NaN                 0.0  2363487549   \n",
      "1369  IV квартал             17991.0             17295.0  2363643842   \n",
      "1370   I квартал            543507.0            529972.0  2363644363   \n",
      "1371   I квартал            726197.0            742423.0  2363644369   \n",
      "\n",
      "      NameOfStation_en  Line_en  Year_en  Quarter_en  IncomingPassengers_en   \n",
      "0                  NaN      NaN      NaN         NaN                    NaN  \\\n",
      "1                  NaN      NaN      NaN         NaN                    NaN   \n",
      "2                  NaN      NaN      NaN         NaN                    NaN   \n",
      "3                  NaN      NaN      NaN         NaN                    NaN   \n",
      "4                  NaN      NaN      NaN         NaN                    NaN   \n",
      "...                ...      ...      ...         ...                    ...   \n",
      "1367               NaN      NaN      NaN         NaN                    NaN   \n",
      "1368               NaN      NaN      NaN         NaN                    NaN   \n",
      "1369               NaN      NaN      NaN         NaN                    NaN   \n",
      "1370               NaN      NaN      NaN         NaN                    NaN   \n",
      "1371               NaN      NaN      NaN         NaN                    NaN   \n",
      "\n",
      "      OutgoingPassengers_en  Unnamed: 13  \n",
      "0                       NaN          NaN  \n",
      "1                       NaN          NaN  \n",
      "2                       NaN          NaN  \n",
      "3                       NaN          NaN  \n",
      "4                       NaN          NaN  \n",
      "...                     ...          ...  \n",
      "1367                    NaN          NaN  \n",
      "1368                    NaN          NaN  \n",
      "1369                    NaN          NaN  \n",
      "1370                    NaN          NaN  \n",
      "1371                    NaN          NaN  \n",
      "\n",
      "[1372 rows x 14 columns]\n"
     ]
    }
   ],
   "source": [
    "df_3 = pd.read_csv(\"Пассажиропоток_МосМетро_4.csv\", sep=\"|\", skiprows=[1], na_values={\"IncomingPassengers\" : [\"0\", 'NULL', 'None', 'не указано']})\n",
    "print(df_3)"
   ]
  },
  {
   "cell_type": "code",
   "execution_count": 70,
   "metadata": {
    "ExecuteTime": {
     "end_time": "2023-05-04T23:20:40.164019Z",
     "start_time": "2023-05-04T23:20:40.161482Z"
    },
    "collapsed": false
   },
   "outputs": [
    {
     "name": "stdout",
     "output_type": "stream",
     "text": [
      "37\n"
     ]
    }
   ],
   "source": [
    "print(len(df_3[df_3[\"IncomingPassengers\"].isnull()]))"
   ]
  },
  {
   "cell_type": "code",
   "execution_count": 1,
   "metadata": {
    "collapsed": false
   },
   "outputs": [
    {
     "data": {
      "text/plain": [
       "5"
      ]
     },
     "execution_count": 1,
     "metadata": {},
     "output_type": "execute_result"
    }
   ],
   "source": [
    "2 + 3 "
   ]
  },
  {
   "cell_type": "code",
   "execution_count": null,
   "metadata": {},
   "outputs": [],
   "source": []
  }
 ],
 "metadata": {
  "kernelspec": {
   "display_name": "Python 3",
   "language": "python",
   "name": "python3"
  },
  "language_info": {
   "codemirror_mode": {
    "name": "ipython",
    "version": 3
   },
   "file_extension": ".py",
   "mimetype": "text/x-python",
   "name": "python",
   "nbconvert_exporter": "python",
   "pygments_lexer": "ipython3",
   "version": "3.11.2"
  }
 },
 "nbformat": 4,
 "nbformat_minor": 0
}
