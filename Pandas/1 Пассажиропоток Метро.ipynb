{
 "cells": [
  {
   "cell_type": "code",
   "execution_count": 1,
   "metadata": {
    "collapsed": true,
    "ExecuteTime": {
     "start_time": "2023-05-04T22:31:34.933135Z",
     "end_time": "2023-05-04T22:31:35.200479Z"
    }
   },
   "outputs": [],
   "source": [
    "import numpy as np\n",
    "import pandas as pd"
   ]
  },
  {
   "cell_type": "code",
   "execution_count": 33,
   "outputs": [],
   "source": [
    "df = pd.read_csv(\"Пассажиропоток_МосМетро_2.csv\", sep=\";\")\n",
    "df = df.drop(index=0)"
   ],
   "metadata": {
    "collapsed": false,
    "ExecuteTime": {
     "start_time": "2023-05-04T22:42:32.401355Z",
     "end_time": "2023-05-04T22:42:32.412401Z"
    }
   }
  },
  {
   "cell_type": "code",
   "execution_count": 41,
   "outputs": [
    {
     "name": "stdout",
     "output_type": "stream",
     "text": [
      "957    Комсомольская\n",
      "Name: NameOfStation, dtype: object\n",
      "997731\n",
      "1       1913498\n",
      "2       1236714\n",
      "3       1938816\n",
      "4       1849616\n",
      "5       2324687\n",
      "         ...   \n",
      "1368          0\n",
      "1369          0\n",
      "1370      17991\n",
      "1371     543507\n",
      "1372     726197\n",
      "Name: IncomingPassengers, Length: 1372, dtype: object\n"
     ]
    }
   ],
   "source": [
    "print(df[\"NameOfStation\"][(df[\"Quarter\"] == \"IV квартал\") & (df[\"Year\"] == \"2021\") & (df[\"IncomingPassengers\"].astype(int) == df[\"IncomingPassengers\"].astype(int).max())])\n",
    "print(df[\"IncomingPassengers\"].max())\n",
    "print(df[\"IncomingPassengers\"])"
   ],
   "metadata": {
    "collapsed": false,
    "ExecuteTime": {
     "start_time": "2023-05-04T22:45:40.293824Z",
     "end_time": "2023-05-04T22:45:40.298207Z"
    }
   }
  },
  {
   "cell_type": "code",
   "execution_count": 34,
   "outputs": [
    {
     "name": "stdout",
     "output_type": "stream",
     "text": [
      "          NameOfStation                                           Line  Year   \n",
      "1                Митино                      Арбатско-Покровская линия  2021  \\\n",
      "2         Волоколамская                      Арбатско-Покровская линия  2021   \n",
      "3              Строгино                      Арбатско-Покровская линия  2021   \n",
      "4            Крылатское                      Арбатско-Покровская линия  2021   \n",
      "5     Площадь Революции                      Арбатско-Покровская линия  2021   \n",
      "...                 ...                                            ...   ...   \n",
      "1368        Китай-город               Таганско-Краснопресненская линия  2022   \n",
      "1369           Киевская                                Филёвская линия  2022   \n",
      "1370  Улица Милашенкова  Московская монорельсовая транспортная система  2021   \n",
      "1371         Кунцевская                                Филёвская линия  2022   \n",
      "1372         Смоленская                                Филёвская линия  2022   \n",
      "\n",
      "         Quarter IncomingPassengers OutgoingPassengers   global_id   \n",
      "1      I квартал            1913498            1829031  1138975996  \\\n",
      "2      I квартал            1236714            1222309  1138975997   \n",
      "3      I квартал            1938816            1903731  1138975999   \n",
      "4      I квартал            1849616            1818208  1138976000   \n",
      "5      I квартал            2324687            2319343  1138976008   \n",
      "...          ...                ...                ...         ...   \n",
      "1368   I квартал                  0                  0  2363487484   \n",
      "1369   I квартал                  0                  0  2363487549   \n",
      "1370  IV квартал              17991              17295  2363643842   \n",
      "1371   I квартал             543507             529972  2363644363   \n",
      "1372   I квартал             726197             742423  2363644369   \n",
      "\n",
      "     NameOfStation_en Line_en Year_en Quarter_en IncomingPassengers_en   \n",
      "1                 NaN     NaN     NaN        NaN                   NaN  \\\n",
      "2                 NaN     NaN     NaN        NaN                   NaN   \n",
      "3                 NaN     NaN     NaN        NaN                   NaN   \n",
      "4                 NaN     NaN     NaN        NaN                   NaN   \n",
      "5                 NaN     NaN     NaN        NaN                   NaN   \n",
      "...               ...     ...     ...        ...                   ...   \n",
      "1368              NaN     NaN     NaN        NaN                   NaN   \n",
      "1369              NaN     NaN     NaN        NaN                   NaN   \n",
      "1370              NaN     NaN     NaN        NaN                   NaN   \n",
      "1371              NaN     NaN     NaN        NaN                   NaN   \n",
      "1372              NaN     NaN     NaN        NaN                   NaN   \n",
      "\n",
      "     OutgoingPassengers_en  Unnamed: 13  \n",
      "1                      NaN          NaN  \n",
      "2                      NaN          NaN  \n",
      "3                      NaN          NaN  \n",
      "4                      NaN          NaN  \n",
      "5                      NaN          NaN  \n",
      "...                    ...          ...  \n",
      "1368                   NaN          NaN  \n",
      "1369                   NaN          NaN  \n",
      "1370                   NaN          NaN  \n",
      "1371                   NaN          NaN  \n",
      "1372                   NaN          NaN  \n",
      "\n",
      "[1372 rows x 14 columns]\n"
     ]
    }
   ],
   "source": [
    "print(df)"
   ],
   "metadata": {
    "collapsed": false,
    "ExecuteTime": {
     "start_time": "2023-05-04T22:42:35.182420Z",
     "end_time": "2023-05-04T22:42:35.190279Z"
    }
   }
  },
  {
   "cell_type": "code",
   "execution_count": null,
   "outputs": [],
   "source": [],
   "metadata": {
    "collapsed": false
   }
  }
 ],
 "metadata": {
  "kernelspec": {
   "display_name": "Python 3",
   "language": "python",
   "name": "python3"
  },
  "language_info": {
   "codemirror_mode": {
    "name": "ipython",
    "version": 2
   },
   "file_extension": ".py",
   "mimetype": "text/x-python",
   "name": "python",
   "nbconvert_exporter": "python",
   "pygments_lexer": "ipython2",
   "version": "2.7.6"
  }
 },
 "nbformat": 4,
 "nbformat_minor": 0
}
