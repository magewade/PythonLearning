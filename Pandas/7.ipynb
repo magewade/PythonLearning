{
 "cells": [
  {
   "cell_type": "code",
   "execution_count": null,
   "metadata": {
    "collapsed": true
   },
   "outputs": [],
   "source": []
  },
  {
   "cell_type": "code",
   "execution_count": 1,
   "outputs": [],
   "source": [
    "import pandas as pd\n",
    "import numpy as np\n",
    "\n",
    "_df = pd.DataFrame([[0, np.nan, np.nan, 3, 4, 5, 6, 7, 8, np.nan],\n",
    "                    [np.nan, 11, np.nan, 13, 14, 15, 16, 17, 18, np.nan],\n",
    "                    [np.nan, np.nan, 22, 23, 24, 25, 26, 27, 28, np.nan],\n",
    "                    [30, 31, 32, 33, 34, np.nan, 36, 37, 38, np.nan],\n",
    "                    [40, 41, np.nan, 43, 44, 45, 46, 47, 48, np.nan],\n",
    "                    [50, 51, 52, np.nan, 54, 55, np.nan, 57, 58, np.nan],\n",
    "                    [60, 61, 62, 63, 64, np.nan, 66, 67, np.nan, np.nan],\n",
    "                    [np.nan, 71, 72, 73, 74, 75, 76, 77, 78, np.nan],\n",
    "                    [80, 81, 82, 83, 84, 85, np.nan, 87, 88, np.nan],\n",
    "                    [90, 91, 92, 93, 94, 95, 96, 97, 98, np.nan]],\n",
    "                   columns=[\"A\", \"B\", \"C\", \"D\", \"E\", \"F\", \"G\", \"H\", \"J\", \"K\"])"
   ],
   "metadata": {
    "collapsed": false,
    "ExecuteTime": {
     "start_time": "2023-05-09T16:09:19.695788Z",
     "end_time": "2023-05-09T16:09:19.929325Z"
    }
   }
  },
  {
   "cell_type": "code",
   "execution_count": 2,
   "outputs": [
    {
     "name": "stdout",
     "output_type": "stream",
     "text": [
      "      A     B     C     D   E     F     G   H     J   K\n",
      "0   0.0   NaN   NaN   3.0   4   5.0   6.0   7   8.0 NaN\n",
      "1   NaN  11.0   NaN  13.0  14  15.0  16.0  17  18.0 NaN\n",
      "2   NaN   NaN  22.0  23.0  24  25.0  26.0  27  28.0 NaN\n",
      "3  30.0  31.0  32.0  33.0  34   NaN  36.0  37  38.0 NaN\n",
      "4  40.0  41.0   NaN  43.0  44  45.0  46.0  47  48.0 NaN\n",
      "5  50.0  51.0  52.0   NaN  54  55.0   NaN  57  58.0 NaN\n",
      "6  60.0  61.0  62.0  63.0  64   NaN  66.0  67   NaN NaN\n",
      "7   NaN  71.0  72.0  73.0  74  75.0  76.0  77  78.0 NaN\n",
      "8  80.0  81.0  82.0  83.0  84  85.0   NaN  87  88.0 NaN\n",
      "9  90.0  91.0  92.0  93.0  94  95.0  96.0  97  98.0 NaN\n"
     ]
    }
   ],
   "source": [
    "print(_df)"
   ],
   "metadata": {
    "collapsed": false,
    "ExecuteTime": {
     "start_time": "2023-05-09T16:09:23.609210Z",
     "end_time": "2023-05-09T16:09:23.611646Z"
    }
   }
  },
  {
   "cell_type": "code",
   "execution_count": 10,
   "outputs": [
    {
     "name": "stdout",
     "output_type": "stream",
     "text": [
      "      A     B     C     D   E     F     G   H     J   K\n",
      "2   NaN   NaN  22.0  23.0  24  25.0  26.0  27  28.0 NaN\n",
      "3  30.0  31.0  32.0  33.0  34   NaN  36.0  37  38.0 NaN\n",
      "6  60.0  61.0  62.0  63.0  64   NaN  66.0  67   NaN NaN\n",
      "7   NaN  71.0  72.0  73.0  74  75.0  76.0  77  78.0 NaN\n",
      "9  90.0  91.0  92.0  93.0  94  95.0  96.0  97  98.0 NaN\n"
     ]
    }
   ],
   "source": [
    "df_new = _df[[\"C\", \"G\"]].isna()\n",
    "_df_ = _df[~((_df[\"C\"].isna()) | (_df[\"G\"].isna()))]\n",
    "print(_df_)"
   ],
   "metadata": {
    "collapsed": false,
    "ExecuteTime": {
     "start_time": "2023-05-09T16:42:48.531770Z",
     "end_time": "2023-05-09T16:42:48.535976Z"
    }
   }
  },
  {
   "cell_type": "code",
   "execution_count": null,
   "outputs": [],
   "source": [],
   "metadata": {
    "collapsed": false
   }
  }
 ],
 "metadata": {
  "kernelspec": {
   "display_name": "Python 3",
   "language": "python",
   "name": "python3"
  },
  "language_info": {
   "codemirror_mode": {
    "name": "ipython",
    "version": 2
   },
   "file_extension": ".py",
   "mimetype": "text/x-python",
   "name": "python",
   "nbconvert_exporter": "python",
   "pygments_lexer": "ipython2",
   "version": "2.7.6"
  }
 },
 "nbformat": 4,
 "nbformat_minor": 0
}
