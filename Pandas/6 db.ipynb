{
 "cells": [
  {
   "cell_type": "code",
   "execution_count": 4,
   "metadata": {
    "collapsed": true,
    "ExecuteTime": {
     "start_time": "2023-05-09T15:27:12.576646Z",
     "end_time": "2023-05-09T15:27:12.579571Z"
    }
   },
   "outputs": [],
   "source": [
    "import sqlite3\n",
    "import pandas as pd"
   ]
  },
  {
   "cell_type": "code",
   "execution_count": 5,
   "outputs": [],
   "source": [
    "conn = sqlite3.connect('/Users/magewade/Desktop/Python/Pandas/local_db.db')"
   ],
   "metadata": {
    "collapsed": false,
    "ExecuteTime": {
     "start_time": "2023-05-09T15:27:13.647020Z",
     "end_time": "2023-05-09T15:27:13.657295Z"
    }
   }
  },
  {
   "cell_type": "code",
   "execution_count": 6,
   "outputs": [],
   "source": [
    "query = \"SELECT * FROM stations\"\n",
    "df = pd.read_sql_query(query, conn)"
   ],
   "metadata": {
    "collapsed": false,
    "ExecuteTime": {
     "start_time": "2023-05-09T15:28:20.394548Z",
     "end_time": "2023-05-09T15:28:20.413173Z"
    }
   }
  },
  {
   "cell_type": "code",
   "execution_count": 7,
   "outputs": [
    {
     "name": "stdout",
     "output_type": "stream",
     "text": [
      "       ID                             Name StationCapacity   \n",
      "0       2    Пункт проката велосипедов № 2              14  \\\n",
      "1       3    Пункт проката велосипедов № 3              12   \n",
      "2       4    Пункт проката велосипедов № 5              12   \n",
      "3       5    Пункт проката велосипедов № 6              15   \n",
      "4       7    Пункт проката велосипедов № 8              14   \n",
      "..    ...                              ...             ...   \n",
      "722  1003  Пункт проката велосипедов № 966              15   \n",
      "723  1004  Пункт проката велосипедов № 967              15   \n",
      "724  1005  Пункт проката велосипедов № 968              15   \n",
      "725  1006  Пункт проката велосипедов № 969              15   \n",
      "726  1007  Пункт проката велосипедов № 970              15   \n",
      "\n",
      "    BikeParkingSlotsAmount   global_id Longitude_WGS84 Latitude_WGS84   \n",
      "0                     None     2757552      37.5997037     55.7468663  \\\n",
      "1                     None     2757553   37.6005927778  55.7509180556   \n",
      "2                     None     2757554      37.5999825     55.7553104   \n",
      "3                     None     2757555       37.598667      55.757163   \n",
      "4                     None     2757557       37.601473      55.761072   \n",
      "..                     ...         ...             ...            ...   \n",
      "722                   None  2372463065       37.347834      55.690885   \n",
      "723                   None  2372463169       37.359745      55.697622   \n",
      "724                   None  2372463294       37.373916      55.706386   \n",
      "725                   None  2372463404       37.350457      55.696231   \n",
      "726                   None  2372463539        37.35752        55.6961   \n",
      "\n",
      "                                AdmArea           District   \n",
      "0    Центральный административный округ    район Хамовники  \\\n",
      "1    Центральный административный округ        район Арбат   \n",
      "2    Центральный административный округ  Пресненский район   \n",
      "3    Центральный административный округ  Пресненский район   \n",
      "4    Центральный административный округ  Пресненский район   \n",
      "..                                  ...                ...   \n",
      "722     Западный административный округ    Можайский район   \n",
      "723     Западный административный округ    Можайский район   \n",
      "724     Западный административный округ    Можайский район   \n",
      "725     Западный административный округ    Можайский район   \n",
      "726     Западный административный округ    Можайский район   \n",
      "\n",
      "                                    Location  ... AdmArea_en District_en   \n",
      "0     Гоголевский б-р (напротив д.17, стр.1)  ...       None        None  \\\n",
      "1            Гоголевский б-р (напротив д.33)  ...       None        None   \n",
      "2    Никитский б-р (напротив д.11/12, стр.3)  ...       None        None   \n",
      "3         Никитский б-р (напротив д.23/14/9)  ...       None        None   \n",
      "4        Тверской б-р (напротив д.17, стр.1)  ...       None        None   \n",
      "..                                       ...  ...        ...         ...   \n",
      "722   Сколково, Большой бульвар, д.42, стр.1  ...       None        None   \n",
      "723   Сколково, Большой бульвар, д.30, стр.1  ...       None        None   \n",
      "724           Сколково, Большой бульвар, д.7  ...       None        None   \n",
      "725     Сколково, Большой бульвар, д.47, к.1  ...       None        None   \n",
      "726         Сколково, ул. Блеза Паскаля, д.2  ...       None        None   \n",
      "\n",
      "    Location_en ClarificationOfLocation_en DepartmentalAffiliation_en   \n",
      "0          None                       None                       None  \\\n",
      "1          None                       None                       None   \n",
      "2          None                       None                       None   \n",
      "3          None                       None                       None   \n",
      "4          None                       None                       None   \n",
      "..          ...                        ...                        ...   \n",
      "722        None                       None                       None   \n",
      "723        None                       None                       None   \n",
      "724        None                       None                       None   \n",
      "725        None                       None                       None   \n",
      "726        None                       None                       None   \n",
      "\n",
      "    OperOrgName_en OperOrgWebsite_en Photo_en geodata_center geoarea  \n",
      "0             None              None     None           None    None  \n",
      "1             None              None     None           None    None  \n",
      "2             None              None     None           None    None  \n",
      "3             None              None     None           None    None  \n",
      "4             None              None     None           None    None  \n",
      "..             ...               ...      ...            ...     ...  \n",
      "722           None              None     None           None    None  \n",
      "723           None              None     None           None    None  \n",
      "724           None              None     None           None    None  \n",
      "725           None              None     None           None    None  \n",
      "726           None              None     None           None    None  \n",
      "\n",
      "[727 rows x 31 columns]\n"
     ]
    }
   ],
   "source": [
    "print(df)"
   ],
   "metadata": {
    "collapsed": false,
    "ExecuteTime": {
     "start_time": "2023-05-09T15:28:24.449877Z",
     "end_time": "2023-05-09T15:28:24.459731Z"
    }
   }
  },
  {
   "cell_type": "code",
   "execution_count": 8,
   "outputs": [],
   "source": [
    "df_new = df[[\"Name\", \"StationCapacity\", \"Location\"]]"
   ],
   "metadata": {
    "collapsed": false,
    "ExecuteTime": {
     "start_time": "2023-05-09T15:29:14.892171Z",
     "end_time": "2023-05-09T15:29:14.904094Z"
    }
   }
  },
  {
   "cell_type": "code",
   "execution_count": 22,
   "outputs": [],
   "source": [
    "df_new[\"StationCapacity\"] = df_new[\"StationCapacity\"].astype(int)"
   ],
   "metadata": {
    "collapsed": false,
    "ExecuteTime": {
     "start_time": "2023-05-09T15:33:56.840640Z",
     "end_time": "2023-05-09T15:33:56.847760Z"
    }
   }
  },
  {
   "cell_type": "code",
   "execution_count": 25,
   "outputs": [],
   "source": [
    "df_new = df_new.sort_values([\"StationCapacity\", \"Name\"], ascending=[False, True])"
   ],
   "metadata": {
    "collapsed": false,
    "ExecuteTime": {
     "start_time": "2023-05-09T15:34:08.812835Z",
     "end_time": "2023-05-09T15:34:08.821549Z"
    }
   }
  },
  {
   "cell_type": "code",
   "execution_count": 26,
   "outputs": [
    {
     "name": "stdout",
     "output_type": "stream",
     "text": [
      "                                Name  StationCapacity   \n",
      "33   Пункт проката велосипедов № 209               54  \\\n",
      "331  Пункт проката велосипедов № 100               51   \n",
      "162  Пункт проката велосипедов № 466               48   \n",
      "465  Пункт проката велосипедов № 700               48   \n",
      "332  Пункт проката велосипедов № 102               45   \n",
      "\n",
      "                                             Location  \n",
      "33                       ст. м. Спортивная (выход №1)  \n",
      "331  Зубовский б-р, д.5, стр.1 (ст. м. Парк Культуры)  \n",
      "162            Продольный пр. (у главного входа ВДНХ)  \n",
      "465          пр-т Мира, д.119, стр.23 (у Москвариума)  \n",
      "332                         Зубовская пл., д.3, стр.1  \n"
     ]
    }
   ],
   "source": [
    "print(df_new.head())"
   ],
   "metadata": {
    "collapsed": false,
    "ExecuteTime": {
     "start_time": "2023-05-09T15:34:09.319342Z",
     "end_time": "2023-05-09T15:34:09.322816Z"
    }
   }
  },
  {
   "cell_type": "code",
   "execution_count": 27,
   "outputs": [],
   "source": [
    "df_new.to_csv(\"output.csv\", sep=\";\", encoding=\"utf-8\", index=False)"
   ],
   "metadata": {
    "collapsed": false,
    "ExecuteTime": {
     "start_time": "2023-05-09T15:35:44.695053Z",
     "end_time": "2023-05-09T15:35:44.713574Z"
    }
   }
  },
  {
   "cell_type": "code",
   "execution_count": null,
   "outputs": [],
   "source": [],
   "metadata": {
    "collapsed": false
   }
  }
 ],
 "metadata": {
  "kernelspec": {
   "display_name": "Python 3",
   "language": "python",
   "name": "python3"
  },
  "language_info": {
   "codemirror_mode": {
    "name": "ipython",
    "version": 2
   },
   "file_extension": ".py",
   "mimetype": "text/x-python",
   "name": "python",
   "nbconvert_exporter": "python",
   "pygments_lexer": "ipython2",
   "version": "2.7.6"
  }
 },
 "nbformat": 4,
 "nbformat_minor": 0
}
