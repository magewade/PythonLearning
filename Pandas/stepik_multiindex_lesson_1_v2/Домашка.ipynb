{
 "cells": [
  {
   "attachments": {},
   "cell_type": "markdown",
   "id": "5caec950",
   "metadata": {},
   "source": [
    "# Домашнее задание по мультииндексам"
   ]
  },
  {
   "cell_type": "code",
   "execution_count": 4,
   "id": "2139a7f9",
   "metadata": {
    "ExecuteTime": {
     "end_time": "2023-05-10T23:58:19.893113Z",
     "start_time": "2023-05-10T23:58:19.876781Z"
    }
   },
   "outputs": [],
   "source": [
    "import pandas as pd\n",
    "import numpy as np"
   ]
  },
  {
   "attachments": {},
   "cell_type": "markdown",
   "id": "63441a2f",
   "metadata": {},
   "source": [
    "## Задание 1\n",
    "### Постройте датафрейм заполненный нулями так, как это показано в ячейке ниже. Первые две колонки являются мультииндексом. Для заполнения датафрейма нулями воспользуйтесь функцией zeros из библиотеки numpy"
   ]
  },
  {
   "cell_type": "raw",
   "id": "371dd699",
   "metadata": {},
   "source": [
    "                  0    1    2    3    4\n",
    "Группа 1 Альфа  0.0  0.0  0.0  0.0  0.0\n",
    "         Бета   0.0  0.0  0.0  0.0  0.0\n",
    "Группа 2 Альфа  0.0  0.0  0.0  0.0  0.0\n",
    "         Бета   0.0  0.0  0.0  0.0  0.0"
   ]
  },
  {
   "cell_type": "code",
   "execution_count": 56,
   "id": "36f5f293",
   "metadata": {
    "ExecuteTime": {
     "end_time": "2023-05-10T23:58:23.333385Z",
     "start_time": "2023-05-10T23:58:23.329266Z"
    }
   },
   "outputs": [],
   "source": [
    "task1_df = pd.DataFrame(np.zeros((4, 5)), index=[['Группа 1', 'Группа 1', 'Группа 2', 'Группа 2'],['Альфа', 'Бета', 'Альфа', 'Бета']])"
   ]
  },
  {
   "cell_type": "code",
   "execution_count": 57,
   "id": "d02d72b7",
   "metadata": {
    "ExecuteTime": {
     "end_time": "2023-05-10T23:58:23.476293Z",
     "start_time": "2023-05-10T23:58:23.471831Z"
    }
   },
   "outputs": [
    {
     "name": "stdout",
     "output_type": "stream",
     "text": [
      "                  0    1    2    3    4\n",
      "Группа 1 Альфа  0.0  0.0  0.0  0.0  0.0\n",
      "         Бета   0.0  0.0  0.0  0.0  0.0\n",
      "Группа 2 Альфа  0.0  0.0  0.0  0.0  0.0\n",
      "         Бета   0.0  0.0  0.0  0.0  0.0\n"
     ]
    }
   ],
   "source": [
    "print(task1_df)"
   ]
  },
  {
   "cell_type": "code",
   "execution_count": 58,
   "id": "f29b723e",
   "metadata": {
    "ExecuteTime": {
     "end_time": "2023-05-10T23:58:23.639536Z",
     "start_time": "2023-05-10T23:58:23.627407Z"
    }
   },
   "outputs": [],
   "source": [
    "task1_df.to_csv(\"output.csv\")"
   ]
  },
  {
   "attachments": {},
   "cell_type": "markdown",
   "id": "731017ce",
   "metadata": {},
   "source": [
    "### Получившися датафрейм сохраните в csv файл и загрузите на степик"
   ]
  },
  {
   "cell_type": "code",
   "execution_count": 59,
   "id": "1cc342ea",
   "metadata": {
    "ExecuteTime": {
     "end_time": "2023-05-10T23:58:23.891195Z",
     "start_time": "2023-05-10T23:58:23.868435Z"
    }
   },
   "outputs": [],
   "source": [
    "task1_df.to_csv('result_task1_df.csv')"
   ]
  },
  {
   "attachments": {},
   "cell_type": "markdown",
   "id": "c63c3fea",
   "metadata": {},
   "source": [
    "## Задание 2\n",
    "### Загрузите файл task2.csv в котором содержится сводная информация о велопарковках в Москве"
   ]
  },
  {
   "cell_type": "code",
   "execution_count": 6,
   "id": "ceea6600",
   "metadata": {
    "ExecuteTime": {
     "end_time": "2023-05-10T23:58:24.450661Z",
     "start_time": "2023-05-10T23:58:24.124589Z"
    }
   },
   "outputs": [
    {
     "data": {
      "text/html": [
       "<div>\n",
       "<style scoped>\n",
       "    .dataframe tbody tr th:only-of-type {\n",
       "        vertical-align: middle;\n",
       "    }\n",
       "\n",
       "    .dataframe tbody tr th {\n",
       "        vertical-align: top;\n",
       "    }\n",
       "\n",
       "    .dataframe thead th {\n",
       "        text-align: right;\n",
       "    }\n",
       "</style>\n",
       "<table border=\"1\" class=\"dataframe\">\n",
       "  <thead>\n",
       "    <tr style=\"text-align: right;\">\n",
       "      <th></th>\n",
       "      <th></th>\n",
       "      <th>count</th>\n",
       "      <th>sum</th>\n",
       "    </tr>\n",
       "    <tr>\n",
       "      <th>District</th>\n",
       "      <th>cost_type</th>\n",
       "      <th></th>\n",
       "      <th></th>\n",
       "    </tr>\n",
       "  </thead>\n",
       "  <tbody>\n",
       "    <tr>\n",
       "      <th rowspan=\"2\" valign=\"top\">Академический район</th>\n",
       "      <th>Бесплатная</th>\n",
       "      <td>3</td>\n",
       "      <td>19</td>\n",
       "    </tr>\n",
       "    <tr>\n",
       "      <th>Платная</th>\n",
       "      <td>1</td>\n",
       "      <td>8</td>\n",
       "    </tr>\n",
       "    <tr>\n",
       "      <th rowspan=\"2\" valign=\"top\">Алексеевский район</th>\n",
       "      <th>Бесплатная</th>\n",
       "      <td>9</td>\n",
       "      <td>88</td>\n",
       "    </tr>\n",
       "    <tr>\n",
       "      <th>Платная</th>\n",
       "      <td>7</td>\n",
       "      <td>64</td>\n",
       "    </tr>\n",
       "    <tr>\n",
       "      <th>Алтуфьевский район</th>\n",
       "      <th>Бесплатная</th>\n",
       "      <td>2</td>\n",
       "      <td>20</td>\n",
       "    </tr>\n",
       "    <tr>\n",
       "      <th>...</th>\n",
       "      <th>...</th>\n",
       "      <td>...</td>\n",
       "      <td>...</td>\n",
       "    </tr>\n",
       "    <tr>\n",
       "      <th>район Южное Тушино</th>\n",
       "      <th>Платная</th>\n",
       "      <td>5</td>\n",
       "      <td>44</td>\n",
       "    </tr>\n",
       "    <tr>\n",
       "      <th rowspan=\"2\" valign=\"top\">район Якиманка</th>\n",
       "      <th>Бесплатная</th>\n",
       "      <td>6</td>\n",
       "      <td>18</td>\n",
       "    </tr>\n",
       "    <tr>\n",
       "      <th>Платная</th>\n",
       "      <td>4</td>\n",
       "      <td>16</td>\n",
       "    </tr>\n",
       "    <tr>\n",
       "      <th rowspan=\"2\" valign=\"top\">район Ясенево</th>\n",
       "      <th>Бесплатная</th>\n",
       "      <td>9</td>\n",
       "      <td>66</td>\n",
       "    </tr>\n",
       "    <tr>\n",
       "      <th>Платная</th>\n",
       "      <td>4</td>\n",
       "      <td>38</td>\n",
       "    </tr>\n",
       "  </tbody>\n",
       "</table>\n",
       "<p>235 rows × 2 columns</p>\n",
       "</div>"
      ],
      "text/plain": [
       "                                count  sum\n",
       "District            cost_type             \n",
       "Академический район Бесплатная      3   19\n",
       "                    Платная         1    8\n",
       "Алексеевский район  Бесплатная      9   88\n",
       "                    Платная         7   64\n",
       "Алтуфьевский район  Бесплатная      2   20\n",
       "...                               ...  ...\n",
       "район Южное Тушино  Платная         5   44\n",
       "район Якиманка      Бесплатная      6   18\n",
       "                    Платная         4   16\n",
       "район Ясенево       Бесплатная      9   66\n",
       "                    Платная         4   38\n",
       "\n",
       "[235 rows x 2 columns]"
      ]
     },
     "execution_count": 6,
     "metadata": {},
     "output_type": "execute_result"
    }
   ],
   "source": [
    "task2_df = pd.read_csv('/Users/magewade/Desktop/Python/Pandas/stepik_multiindex_lesson_1_v2/task2.csv', index_col=[0, 1]) # не редактируйте\n",
    "task2_df"
   ]
  },
  {
   "attachments": {},
   "cell_type": "markdown",
   "id": "c9a8477f",
   "metadata": {},
   "source": [
    "### По каждому району (District) и типу (cost_type) содержится количество парковок (count) и суммарное количество мест на этих парковках (sum)"
   ]
  },
  {
   "cell_type": "code",
   "execution_count": 61,
   "id": "b951a8de",
   "metadata": {
    "ExecuteTime": {
     "end_time": "2023-05-10T23:58:24.634513Z",
     "start_time": "2023-05-10T23:58:24.618751Z"
    }
   },
   "outputs": [
    {
     "name": "stdout",
     "output_type": "stream",
     "text": [
      "cost_type               Бесплатная  Платная\n",
      "District                                   \n",
      "Академический район           19.0      8.0\n",
      "Алексеевский район            88.0     64.0\n",
      "Алтуфьевский район            20.0     30.0\n",
      "Бабушкинский район            62.0     77.0\n",
      "Басманный район              116.0    109.0\n",
      "...                            ...      ...\n",
      "район Южное Бутово            36.0     92.0\n",
      "район Южное Медведково        60.0     18.0\n",
      "район Южное Тушино            12.0     44.0\n",
      "район Якиманка                18.0     16.0\n",
      "район Ясенево                 66.0     38.0\n",
      "\n",
      "[125 rows x 2 columns]\n"
     ]
    }
   ],
   "source": [
    "task2_df_2 = task2_df.drop(columns=\"count\")\n",
    "task2_df_2 = task2_df_2.unstack(level=1)\n",
    "task2_df_2.columns = task2_df_2.columns.droplevel(level=0)\n",
    "print(task2_df_2)"
   ]
  },
  {
   "attachments": {},
   "cell_type": "markdown",
   "id": "1ed3cb89",
   "metadata": {},
   "source": [
    "### Выполните преобразование таким образом чтобы получился новый датафрейм, где строки будут всё так же районы, а по колонкам будет идти суммарное количество мест на парковке в разбивке платные/бесплатные "
   ]
  },
  {
   "cell_type": "raw",
   "id": "20115f6c",
   "metadata": {},
   "source": [
    "cost_type               Бесплатная  Платная\n",
    "District                                   \n",
    "Академический район           19.0      8.0\n",
    "Алексеевский район            88.0     64.0\n",
    "Алтуфьевский район            20.0     30.0\n",
    "Бабушкинский район            62.0     77.0\n",
    "Басманный район              116.0    109.0\n",
    "...                            ...      ...\n",
    "район Южное Бутово            36.0     92.0\n",
    "район Южное Медведково        60.0     18.0\n",
    "район Южное Тушино            12.0     44.0\n",
    "район Якиманка                18.0     16.0\n",
    "район Ясенево                 66.0     38.0"
   ]
  },
  {
   "cell_type": "code",
   "execution_count": 62,
   "id": "cb8fcb2d",
   "metadata": {
    "ExecuteTime": {
     "end_time": "2023-05-10T23:58:25.657725Z",
     "start_time": "2023-05-10T23:58:25.652875Z"
    }
   },
   "outputs": [],
   "source": [
    "task2_df_2.to_csv(\"output.csv\")"
   ]
  },
  {
   "attachments": {},
   "cell_type": "markdown",
   "id": "d1de2b1d",
   "metadata": {},
   "source": [
    "### Cохраните в csv файл и загрузите на Stepik"
   ]
  },
  {
   "cell_type": "code",
   "execution_count": 63,
   "id": "9c6b8487",
   "metadata": {
    "ExecuteTime": {
     "end_time": "2023-05-10T23:58:25.956634Z",
     "start_time": "2023-05-10T23:58:25.952714Z"
    }
   },
   "outputs": [],
   "source": [
    "task2_df.to_csv('result_task2_df.csv')"
   ]
  },
  {
   "attachments": {},
   "cell_type": "markdown",
   "id": "22124e17",
   "metadata": {},
   "source": [
    "## Задание 3\n",
    "### Снова загружаем датафрейм с прошлого степа"
   ]
  },
  {
   "cell_type": "code",
   "execution_count": 64,
   "id": "365205fe",
   "metadata": {
    "ExecuteTime": {
     "end_time": "2023-05-10T23:58:26.798590Z",
     "start_time": "2023-05-10T23:58:26.774860Z"
    }
   },
   "outputs": [],
   "source": [
    "task3_df = pd.read_csv('/Users/magewade/Desktop/Python/Pandas/stepik_multiindex_lesson_1_v2/task2.csv', index_col=[0, 1]) # не редактируйте"
   ]
  },
  {
   "cell_type": "code",
   "execution_count": 65,
   "id": "c622b017",
   "metadata": {
    "ExecuteTime": {
     "end_time": "2023-05-10T23:58:26.962261Z",
     "start_time": "2023-05-10T23:58:26.942495Z"
    }
   },
   "outputs": [
    {
     "data": {
      "text/html": [
       "<div>\n",
       "<style scoped>\n",
       "    .dataframe tbody tr th:only-of-type {\n",
       "        vertical-align: middle;\n",
       "    }\n",
       "\n",
       "    .dataframe tbody tr th {\n",
       "        vertical-align: top;\n",
       "    }\n",
       "\n",
       "    .dataframe thead th {\n",
       "        text-align: right;\n",
       "    }\n",
       "</style>\n",
       "<table border=\"1\" class=\"dataframe\">\n",
       "  <thead>\n",
       "    <tr style=\"text-align: right;\">\n",
       "      <th></th>\n",
       "      <th></th>\n",
       "      <th>count</th>\n",
       "      <th>sum</th>\n",
       "    </tr>\n",
       "    <tr>\n",
       "      <th>District</th>\n",
       "      <th>cost_type</th>\n",
       "      <th></th>\n",
       "      <th></th>\n",
       "    </tr>\n",
       "  </thead>\n",
       "  <tbody>\n",
       "    <tr>\n",
       "      <th rowspan=\"2\" valign=\"top\">Академический район</th>\n",
       "      <th>Бесплатная</th>\n",
       "      <td>3</td>\n",
       "      <td>19</td>\n",
       "    </tr>\n",
       "    <tr>\n",
       "      <th>Платная</th>\n",
       "      <td>1</td>\n",
       "      <td>8</td>\n",
       "    </tr>\n",
       "    <tr>\n",
       "      <th rowspan=\"2\" valign=\"top\">Алексеевский район</th>\n",
       "      <th>Бесплатная</th>\n",
       "      <td>9</td>\n",
       "      <td>88</td>\n",
       "    </tr>\n",
       "    <tr>\n",
       "      <th>Платная</th>\n",
       "      <td>7</td>\n",
       "      <td>64</td>\n",
       "    </tr>\n",
       "    <tr>\n",
       "      <th>Алтуфьевский район</th>\n",
       "      <th>Бесплатная</th>\n",
       "      <td>2</td>\n",
       "      <td>20</td>\n",
       "    </tr>\n",
       "    <tr>\n",
       "      <th>...</th>\n",
       "      <th>...</th>\n",
       "      <td>...</td>\n",
       "      <td>...</td>\n",
       "    </tr>\n",
       "    <tr>\n",
       "      <th>район Южное Тушино</th>\n",
       "      <th>Платная</th>\n",
       "      <td>5</td>\n",
       "      <td>44</td>\n",
       "    </tr>\n",
       "    <tr>\n",
       "      <th rowspan=\"2\" valign=\"top\">район Якиманка</th>\n",
       "      <th>Бесплатная</th>\n",
       "      <td>6</td>\n",
       "      <td>18</td>\n",
       "    </tr>\n",
       "    <tr>\n",
       "      <th>Платная</th>\n",
       "      <td>4</td>\n",
       "      <td>16</td>\n",
       "    </tr>\n",
       "    <tr>\n",
       "      <th rowspan=\"2\" valign=\"top\">район Ясенево</th>\n",
       "      <th>Бесплатная</th>\n",
       "      <td>9</td>\n",
       "      <td>66</td>\n",
       "    </tr>\n",
       "    <tr>\n",
       "      <th>Платная</th>\n",
       "      <td>4</td>\n",
       "      <td>38</td>\n",
       "    </tr>\n",
       "  </tbody>\n",
       "</table>\n",
       "<p>235 rows × 2 columns</p>\n",
       "</div>"
      ],
      "text/plain": [
       "                                count  sum\n",
       "District            cost_type             \n",
       "Академический район Бесплатная      3   19\n",
       "                    Платная         1    8\n",
       "Алексеевский район  Бесплатная      9   88\n",
       "                    Платная         7   64\n",
       "Алтуфьевский район  Бесплатная      2   20\n",
       "...                               ...  ...\n",
       "район Южное Тушино  Платная         5   44\n",
       "район Якиманка      Бесплатная      6   18\n",
       "                    Платная         4   16\n",
       "район Ясенево       Бесплатная      9   66\n",
       "                    Платная         4   38\n",
       "\n",
       "[235 rows x 2 columns]"
      ]
     },
     "execution_count": 65,
     "metadata": {},
     "output_type": "execute_result"
    }
   ],
   "source": [
    "task3_df"
   ]
  },
  {
   "attachments": {},
   "cell_type": "markdown",
   "id": "00dd98ea",
   "metadata": {},
   "source": [
    "### Отберите информацию о велопарковках в районах: \n",
    "#### - Алексеевский район\n",
    "#### - район Южное Тушино\n",
    "#### - район Ясенево"
   ]
  },
  {
   "cell_type": "code",
   "execution_count": 66,
   "id": "92da7363",
   "metadata": {
    "ExecuteTime": {
     "end_time": "2023-05-10T23:58:27.338262Z",
     "start_time": "2023-05-10T23:58:27.330111Z"
    }
   },
   "outputs": [
    {
     "name": "stdout",
     "output_type": "stream",
     "text": [
      "                               count  sum\n",
      "District           cost_type             \n",
      "Алексеевский район Бесплатная      9   88\n",
      "                   Платная         7   64\n",
      "район Южное Тушино Бесплатная      2   12\n",
      "                   Платная         5   44\n",
      "район Ясенево      Бесплатная      9   66\n",
      "                   Платная         4   38\n"
     ]
    }
   ],
   "source": [
    "df = task3_df.loc[['Алексеевский район', 'район Южное Тушино', 'район Ясенево']]\n",
    "print(df)"
   ]
  },
  {
   "attachments": {},
   "cell_type": "markdown",
   "id": "bc784de0",
   "metadata": {},
   "source": [
    "### Посчитайте суммарное количество парковок в разрезе по платным и бесплатным\n",
    "#### Для начала выполните преобразование как в прошлом задании, а потом вспомните, что мы проходили функцию суммирования по строкам и колонкам. Попробуй применить ее. На степик в поле с ответом введите 2 числа через пробел: количество по бесплатным и количество по платным\n",
    "#### Например: 10 15"
   ]
  },
  {
   "cell_type": "code",
   "execution_count": 67,
   "id": "feef278a",
   "metadata": {
    "ExecuteTime": {
     "end_time": "2023-05-10T23:58:27.921091Z",
     "start_time": "2023-05-10T23:58:27.909006Z"
    }
   },
   "outputs": [
    {
     "data": {
      "text/html": [
       "<div>\n",
       "<style scoped>\n",
       "    .dataframe tbody tr th:only-of-type {\n",
       "        vertical-align: middle;\n",
       "    }\n",
       "\n",
       "    .dataframe tbody tr th {\n",
       "        vertical-align: top;\n",
       "    }\n",
       "\n",
       "    .dataframe thead th {\n",
       "        text-align: right;\n",
       "    }\n",
       "</style>\n",
       "<table border=\"1\" class=\"dataframe\">\n",
       "  <thead>\n",
       "    <tr style=\"text-align: right;\">\n",
       "      <th></th>\n",
       "      <th>count</th>\n",
       "      <th>sum</th>\n",
       "    </tr>\n",
       "    <tr>\n",
       "      <th>cost_type</th>\n",
       "      <th></th>\n",
       "      <th></th>\n",
       "    </tr>\n",
       "  </thead>\n",
       "  <tbody>\n",
       "    <tr>\n",
       "      <th>Бесплатная</th>\n",
       "      <td>20</td>\n",
       "      <td>166</td>\n",
       "    </tr>\n",
       "    <tr>\n",
       "      <th>Платная</th>\n",
       "      <td>16</td>\n",
       "      <td>146</td>\n",
       "    </tr>\n",
       "  </tbody>\n",
       "</table>\n",
       "</div>"
      ],
      "text/plain": [
       "            count  sum\n",
       "cost_type             \n",
       "Бесплатная     20  166\n",
       "Платная        16  146"
      ]
     },
     "execution_count": 67,
     "metadata": {},
     "output_type": "execute_result"
    }
   ],
   "source": [
    "sum_b = df.groupby(level=1).sum()\n",
    "sum_b"
   ]
  },
  {
   "attachments": {},
   "cell_type": "markdown",
   "id": "9aa320ba",
   "metadata": {},
   "source": [
    "## Задание 4. \n",
    "### Загрузите файл task4.csv в котором содержится сводная информация о велопарковках в Москве"
   ]
  },
  {
   "cell_type": "code",
   "execution_count": 68,
   "id": "34f64982",
   "metadata": {
    "ExecuteTime": {
     "end_time": "2023-05-10T23:58:29.029120Z",
     "start_time": "2023-05-10T23:58:29.005124Z"
    }
   },
   "outputs": [],
   "source": [
    "task4_df = pd.read_csv('/Users/magewade/Desktop/Python/Pandas/stepik_multiindex_lesson_1_v2/task4.csv', index_col=[0, 1, 2]) # не редактируйте"
   ]
  },
  {
   "attachments": {},
   "cell_type": "markdown",
   "id": "9fd74bbe",
   "metadata": {},
   "source": [
    "### По каждому административному округу (AdmArea), району (District) и типу (cost_type) содержится количество парковок (count) и суммарное количество мест на этих парковках (sum)"
   ]
  },
  {
   "cell_type": "code",
   "execution_count": 69,
   "id": "3393bd40",
   "metadata": {
    "ExecuteTime": {
     "end_time": "2023-05-10T23:58:29.605081Z",
     "start_time": "2023-05-10T23:58:29.542337Z"
    }
   },
   "outputs": [
    {
     "data": {
      "text/html": [
       "<div>\n",
       "<style scoped>\n",
       "    .dataframe tbody tr th:only-of-type {\n",
       "        vertical-align: middle;\n",
       "    }\n",
       "\n",
       "    .dataframe tbody tr th {\n",
       "        vertical-align: top;\n",
       "    }\n",
       "\n",
       "    .dataframe thead th {\n",
       "        text-align: right;\n",
       "    }\n",
       "</style>\n",
       "<table border=\"1\" class=\"dataframe\">\n",
       "  <thead>\n",
       "    <tr style=\"text-align: right;\">\n",
       "      <th></th>\n",
       "      <th></th>\n",
       "      <th></th>\n",
       "      <th>count</th>\n",
       "      <th>sum</th>\n",
       "    </tr>\n",
       "    <tr>\n",
       "      <th>AdmArea</th>\n",
       "      <th>District</th>\n",
       "      <th>cost_type</th>\n",
       "      <th></th>\n",
       "      <th></th>\n",
       "    </tr>\n",
       "  </thead>\n",
       "  <tbody>\n",
       "    <tr>\n",
       "      <th rowspan=\"5\" valign=\"top\">Восточный административный округ</th>\n",
       "      <th>Нижегородский район</th>\n",
       "      <th>Бесплатная</th>\n",
       "      <td>1</td>\n",
       "      <td>6</td>\n",
       "    </tr>\n",
       "    <tr>\n",
       "      <th rowspan=\"2\" valign=\"top\">район Богородское</th>\n",
       "      <th>Бесплатная</th>\n",
       "      <td>2</td>\n",
       "      <td>14</td>\n",
       "    </tr>\n",
       "    <tr>\n",
       "      <th>Платная</th>\n",
       "      <td>1</td>\n",
       "      <td>8</td>\n",
       "    </tr>\n",
       "    <tr>\n",
       "      <th rowspan=\"2\" valign=\"top\">район Вешняки</th>\n",
       "      <th>Бесплатная</th>\n",
       "      <td>5</td>\n",
       "      <td>35</td>\n",
       "    </tr>\n",
       "    <tr>\n",
       "      <th>Платная</th>\n",
       "      <td>3</td>\n",
       "      <td>17</td>\n",
       "    </tr>\n",
       "    <tr>\n",
       "      <th>...</th>\n",
       "      <th>...</th>\n",
       "      <th>...</th>\n",
       "      <td>...</td>\n",
       "      <td>...</td>\n",
       "    </tr>\n",
       "    <tr>\n",
       "      <th rowspan=\"5\" valign=\"top\">Южный административный округ</th>\n",
       "      <th>район Чертаново Северное</th>\n",
       "      <th>Платная</th>\n",
       "      <td>2</td>\n",
       "      <td>20</td>\n",
       "    </tr>\n",
       "    <tr>\n",
       "      <th rowspan=\"2\" valign=\"top\">район Чертаново Центральное</th>\n",
       "      <th>Бесплатная</th>\n",
       "      <td>7</td>\n",
       "      <td>68</td>\n",
       "    </tr>\n",
       "    <tr>\n",
       "      <th>Платная</th>\n",
       "      <td>3</td>\n",
       "      <td>21</td>\n",
       "    </tr>\n",
       "    <tr>\n",
       "      <th rowspan=\"2\" valign=\"top\">район Чертаново Южное</th>\n",
       "      <th>Бесплатная</th>\n",
       "      <td>9</td>\n",
       "      <td>86</td>\n",
       "    </tr>\n",
       "    <tr>\n",
       "      <th>Платная</th>\n",
       "      <td>4</td>\n",
       "      <td>36</td>\n",
       "    </tr>\n",
       "  </tbody>\n",
       "</table>\n",
       "<p>247 rows × 2 columns</p>\n",
       "</div>"
      ],
      "text/plain": [
       "                                                                         count   \n",
       "AdmArea                          District                    cost_type           \n",
       "Восточный административный округ Нижегородский район         Бесплатная      1  \\\n",
       "                                 район Богородское           Бесплатная      2   \n",
       "                                                             Платная         1   \n",
       "                                 район Вешняки               Бесплатная      5   \n",
       "                                                             Платная         3   \n",
       "...                                                                        ...   \n",
       "Южный административный округ     район Чертаново Северное    Платная         2   \n",
       "                                 район Чертаново Центральное Бесплатная      7   \n",
       "                                                             Платная         3   \n",
       "                                 район Чертаново Южное       Бесплатная      9   \n",
       "                                                             Платная         4   \n",
       "\n",
       "                                                                         sum  \n",
       "AdmArea                          District                    cost_type        \n",
       "Восточный административный округ Нижегородский район         Бесплатная    6  \n",
       "                                 район Богородское           Бесплатная   14  \n",
       "                                                             Платная       8  \n",
       "                                 район Вешняки               Бесплатная   35  \n",
       "                                                             Платная      17  \n",
       "...                                                                      ...  \n",
       "Южный административный округ     район Чертаново Северное    Платная      20  \n",
       "                                 район Чертаново Центральное Бесплатная   68  \n",
       "                                                             Платная      21  \n",
       "                                 район Чертаново Южное       Бесплатная   86  \n",
       "                                                             Платная      36  \n",
       "\n",
       "[247 rows x 2 columns]"
      ]
     },
     "execution_count": 69,
     "metadata": {},
     "output_type": "execute_result"
    }
   ],
   "source": [
    "task4_df"
   ]
  },
  {
   "attachments": {},
   "cell_type": "markdown",
   "id": "d7aff86c",
   "metadata": {},
   "source": [
    "### Посчитайте среднее количество бесплатных парковок в Южном административном округе. Ответ округлите вниз до целого числа. Ответ загрузите на степик."
   ]
  },
  {
   "cell_type": "code",
   "execution_count": 70,
   "metadata": {
    "ExecuteTime": {
     "end_time": "2023-05-10T23:58:30.386577Z",
     "start_time": "2023-05-10T23:58:30.362912Z"
    },
    "collapsed": false
   },
   "outputs": [
    {
     "data": {
      "text/html": [
       "<div>\n",
       "<style scoped>\n",
       "    .dataframe tbody tr th:only-of-type {\n",
       "        vertical-align: middle;\n",
       "    }\n",
       "\n",
       "    .dataframe tbody tr th {\n",
       "        vertical-align: top;\n",
       "    }\n",
       "\n",
       "    .dataframe thead th {\n",
       "        text-align: right;\n",
       "    }\n",
       "</style>\n",
       "<table border=\"1\" class=\"dataframe\">\n",
       "  <thead>\n",
       "    <tr style=\"text-align: right;\">\n",
       "      <th></th>\n",
       "      <th>count</th>\n",
       "      <th>sum</th>\n",
       "    </tr>\n",
       "    <tr>\n",
       "      <th>cost_type</th>\n",
       "      <th></th>\n",
       "      <th></th>\n",
       "    </tr>\n",
       "  </thead>\n",
       "  <tbody>\n",
       "    <tr>\n",
       "      <th>Бесплатная</th>\n",
       "      <td>4.187500</td>\n",
       "      <td>38.062500</td>\n",
       "    </tr>\n",
       "    <tr>\n",
       "      <th>Платная</th>\n",
       "      <td>4.882353</td>\n",
       "      <td>42.058824</td>\n",
       "    </tr>\n",
       "  </tbody>\n",
       "</table>\n",
       "</div>"
      ],
      "text/plain": [
       "               count        sum\n",
       "cost_type                      \n",
       "Бесплатная  4.187500  38.062500\n",
       "Платная     4.882353  42.058824"
      ]
     },
     "execution_count": 70,
     "metadata": {},
     "output_type": "execute_result"
    }
   ],
   "source": [
    "m = task4_df.loc[\"Южный административный округ\"].groupby(level=1).mean()\n",
    "m"
   ]
  },
  {
   "attachments": {},
   "cell_type": "markdown",
   "id": "60fb2927",
   "metadata": {},
   "source": [
    "## Задание 5. \n",
    "### Загрузите файл task4.csv в котором содержится сводная информация о велопарковках в Москве"
   ]
  },
  {
   "cell_type": "code",
   "execution_count": 71,
   "id": "01409c6a",
   "metadata": {
    "ExecuteTime": {
     "end_time": "2023-05-10T23:58:30.937811Z",
     "start_time": "2023-05-10T23:58:30.918836Z"
    }
   },
   "outputs": [],
   "source": [
    "task5_df = pd.read_csv('/Users/magewade/Desktop/Python/Pandas/stepik_multiindex_lesson_1_v2/task4.csv', index_col=[0, 1, 2]) # не редактируйте"
   ]
  },
  {
   "attachments": {},
   "cell_type": "markdown",
   "id": "0a696a3f",
   "metadata": {},
   "source": [
    "### По каждому административному округу (AdmArea), району (District) и типу (cost_type) содержится количество парковок (count) и суммарное количество мест на этих парковках (sum)"
   ]
  },
  {
   "cell_type": "code",
   "execution_count": 72,
   "id": "9e0ac530",
   "metadata": {
    "ExecuteTime": {
     "end_time": "2023-05-10T23:58:31.505629Z",
     "start_time": "2023-05-10T23:58:31.447378Z"
    }
   },
   "outputs": [
    {
     "data": {
      "text/html": [
       "<div>\n",
       "<style scoped>\n",
       "    .dataframe tbody tr th:only-of-type {\n",
       "        vertical-align: middle;\n",
       "    }\n",
       "\n",
       "    .dataframe tbody tr th {\n",
       "        vertical-align: top;\n",
       "    }\n",
       "\n",
       "    .dataframe thead th {\n",
       "        text-align: right;\n",
       "    }\n",
       "</style>\n",
       "<table border=\"1\" class=\"dataframe\">\n",
       "  <thead>\n",
       "    <tr style=\"text-align: right;\">\n",
       "      <th></th>\n",
       "      <th></th>\n",
       "      <th></th>\n",
       "      <th>count</th>\n",
       "      <th>sum</th>\n",
       "    </tr>\n",
       "    <tr>\n",
       "      <th>AdmArea</th>\n",
       "      <th>District</th>\n",
       "      <th>cost_type</th>\n",
       "      <th></th>\n",
       "      <th></th>\n",
       "    </tr>\n",
       "  </thead>\n",
       "  <tbody>\n",
       "    <tr>\n",
       "      <th rowspan=\"5\" valign=\"top\">Восточный административный округ</th>\n",
       "      <th>Нижегородский район</th>\n",
       "      <th>Бесплатная</th>\n",
       "      <td>1</td>\n",
       "      <td>6</td>\n",
       "    </tr>\n",
       "    <tr>\n",
       "      <th rowspan=\"2\" valign=\"top\">район Богородское</th>\n",
       "      <th>Бесплатная</th>\n",
       "      <td>2</td>\n",
       "      <td>14</td>\n",
       "    </tr>\n",
       "    <tr>\n",
       "      <th>Платная</th>\n",
       "      <td>1</td>\n",
       "      <td>8</td>\n",
       "    </tr>\n",
       "    <tr>\n",
       "      <th rowspan=\"2\" valign=\"top\">район Вешняки</th>\n",
       "      <th>Бесплатная</th>\n",
       "      <td>5</td>\n",
       "      <td>35</td>\n",
       "    </tr>\n",
       "    <tr>\n",
       "      <th>Платная</th>\n",
       "      <td>3</td>\n",
       "      <td>17</td>\n",
       "    </tr>\n",
       "    <tr>\n",
       "      <th>...</th>\n",
       "      <th>...</th>\n",
       "      <th>...</th>\n",
       "      <td>...</td>\n",
       "      <td>...</td>\n",
       "    </tr>\n",
       "    <tr>\n",
       "      <th rowspan=\"5\" valign=\"top\">Южный административный округ</th>\n",
       "      <th>район Чертаново Северное</th>\n",
       "      <th>Платная</th>\n",
       "      <td>2</td>\n",
       "      <td>20</td>\n",
       "    </tr>\n",
       "    <tr>\n",
       "      <th rowspan=\"2\" valign=\"top\">район Чертаново Центральное</th>\n",
       "      <th>Бесплатная</th>\n",
       "      <td>7</td>\n",
       "      <td>68</td>\n",
       "    </tr>\n",
       "    <tr>\n",
       "      <th>Платная</th>\n",
       "      <td>3</td>\n",
       "      <td>21</td>\n",
       "    </tr>\n",
       "    <tr>\n",
       "      <th rowspan=\"2\" valign=\"top\">район Чертаново Южное</th>\n",
       "      <th>Бесплатная</th>\n",
       "      <td>9</td>\n",
       "      <td>86</td>\n",
       "    </tr>\n",
       "    <tr>\n",
       "      <th>Платная</th>\n",
       "      <td>4</td>\n",
       "      <td>36</td>\n",
       "    </tr>\n",
       "  </tbody>\n",
       "</table>\n",
       "<p>247 rows × 2 columns</p>\n",
       "</div>"
      ],
      "text/plain": [
       "                                                                         count   \n",
       "AdmArea                          District                    cost_type           \n",
       "Восточный административный округ Нижегородский район         Бесплатная      1  \\\n",
       "                                 район Богородское           Бесплатная      2   \n",
       "                                                             Платная         1   \n",
       "                                 район Вешняки               Бесплатная      5   \n",
       "                                                             Платная         3   \n",
       "...                                                                        ...   \n",
       "Южный административный округ     район Чертаново Северное    Платная         2   \n",
       "                                 район Чертаново Центральное Бесплатная      7   \n",
       "                                                             Платная         3   \n",
       "                                 район Чертаново Южное       Бесплатная      9   \n",
       "                                                             Платная         4   \n",
       "\n",
       "                                                                         sum  \n",
       "AdmArea                          District                    cost_type        \n",
       "Восточный административный округ Нижегородский район         Бесплатная    6  \n",
       "                                 район Богородское           Бесплатная   14  \n",
       "                                                             Платная       8  \n",
       "                                 район Вешняки               Бесплатная   35  \n",
       "                                                             Платная      17  \n",
       "...                                                                      ...  \n",
       "Южный административный округ     район Чертаново Северное    Платная      20  \n",
       "                                 район Чертаново Центральное Бесплатная   68  \n",
       "                                                             Платная      21  \n",
       "                                 район Чертаново Южное       Бесплатная   86  \n",
       "                                                             Платная      36  \n",
       "\n",
       "[247 rows x 2 columns]"
      ]
     },
     "execution_count": 72,
     "metadata": {},
     "output_type": "execute_result"
    }
   ],
   "source": [
    "task5_df"
   ]
  },
  {
   "attachments": {},
   "cell_type": "markdown",
   "id": "1b110329",
   "metadata": {},
   "source": [
    "### Найдите в каком районе восточного административного округа больше всего мест на бесплатных парковках. Правильный район выберите из списка на степике."
   ]
  },
  {
   "cell_type": "code",
   "execution_count": 73,
   "id": "c616c3dc",
   "metadata": {
    "ExecuteTime": {
     "end_time": "2023-05-10T23:58:32.115610Z",
     "start_time": "2023-05-10T23:58:32.098642Z"
    }
   },
   "outputs": [],
   "source": [
    "max = task5_df.loc[\"Восточный административный округ\"].groupby(level=[0, 1]).max()"
   ]
  },
  {
   "cell_type": "code",
   "execution_count": 74,
   "id": "13028d55",
   "metadata": {
    "ExecuteTime": {
     "end_time": "2023-05-10T23:58:32.743996Z",
     "start_time": "2023-05-10T23:58:32.735174Z"
    }
   },
   "outputs": [
    {
     "data": {
      "text/html": [
       "<div>\n",
       "<style scoped>\n",
       "    .dataframe tbody tr th:only-of-type {\n",
       "        vertical-align: middle;\n",
       "    }\n",
       "\n",
       "    .dataframe tbody tr th {\n",
       "        vertical-align: top;\n",
       "    }\n",
       "\n",
       "    .dataframe thead th {\n",
       "        text-align: right;\n",
       "    }\n",
       "</style>\n",
       "<table border=\"1\" class=\"dataframe\">\n",
       "  <thead>\n",
       "    <tr style=\"text-align: right;\">\n",
       "      <th></th>\n",
       "      <th></th>\n",
       "      <th>count</th>\n",
       "      <th>sum</th>\n",
       "    </tr>\n",
       "    <tr>\n",
       "      <th>District</th>\n",
       "      <th>cost_type</th>\n",
       "      <th></th>\n",
       "      <th></th>\n",
       "    </tr>\n",
       "  </thead>\n",
       "  <tbody>\n",
       "    <tr>\n",
       "      <th>Нижегородский район</th>\n",
       "      <th>Бесплатная</th>\n",
       "      <td>1</td>\n",
       "      <td>6</td>\n",
       "    </tr>\n",
       "    <tr>\n",
       "      <th rowspan=\"2\" valign=\"top\">район Богородское</th>\n",
       "      <th>Бесплатная</th>\n",
       "      <td>2</td>\n",
       "      <td>14</td>\n",
       "    </tr>\n",
       "    <tr>\n",
       "      <th>Платная</th>\n",
       "      <td>1</td>\n",
       "      <td>8</td>\n",
       "    </tr>\n",
       "    <tr>\n",
       "      <th rowspan=\"2\" valign=\"top\">район Вешняки</th>\n",
       "      <th>Бесплатная</th>\n",
       "      <td>5</td>\n",
       "      <td>35</td>\n",
       "    </tr>\n",
       "    <tr>\n",
       "      <th>Платная</th>\n",
       "      <td>3</td>\n",
       "      <td>17</td>\n",
       "    </tr>\n",
       "    <tr>\n",
       "      <th rowspan=\"2\" valign=\"top\">район Восточное Измайлово</th>\n",
       "      <th>Бесплатная</th>\n",
       "      <td>1</td>\n",
       "      <td>8</td>\n",
       "    </tr>\n",
       "    <tr>\n",
       "      <th>Платная</th>\n",
       "      <td>1</td>\n",
       "      <td>10</td>\n",
       "    </tr>\n",
       "    <tr>\n",
       "      <th rowspan=\"2\" valign=\"top\">район Гольяново</th>\n",
       "      <th>Бесплатная</th>\n",
       "      <td>2</td>\n",
       "      <td>9</td>\n",
       "    </tr>\n",
       "    <tr>\n",
       "      <th>Платная</th>\n",
       "      <td>3</td>\n",
       "      <td>26</td>\n",
       "    </tr>\n",
       "    <tr>\n",
       "      <th rowspan=\"2\" valign=\"top\">район Ивановское</th>\n",
       "      <th>Бесплатная</th>\n",
       "      <td>2</td>\n",
       "      <td>16</td>\n",
       "    </tr>\n",
       "    <tr>\n",
       "      <th>Платная</th>\n",
       "      <td>3</td>\n",
       "      <td>20</td>\n",
       "    </tr>\n",
       "    <tr>\n",
       "      <th rowspan=\"2\" valign=\"top\">район Измайлово</th>\n",
       "      <th>Бесплатная</th>\n",
       "      <td>2</td>\n",
       "      <td>11</td>\n",
       "    </tr>\n",
       "    <tr>\n",
       "      <th>Платная</th>\n",
       "      <td>5</td>\n",
       "      <td>31</td>\n",
       "    </tr>\n",
       "    <tr>\n",
       "      <th rowspan=\"2\" valign=\"top\">район Косино-Ухтомский</th>\n",
       "      <th>Бесплатная</th>\n",
       "      <td>3</td>\n",
       "      <td>18</td>\n",
       "    </tr>\n",
       "    <tr>\n",
       "      <th>Платная</th>\n",
       "      <td>7</td>\n",
       "      <td>47</td>\n",
       "    </tr>\n",
       "    <tr>\n",
       "      <th>район Метрогородок</th>\n",
       "      <th>Бесплатная</th>\n",
       "      <td>4</td>\n",
       "      <td>18</td>\n",
       "    </tr>\n",
       "    <tr>\n",
       "      <th rowspan=\"2\" valign=\"top\">район Новогиреево</th>\n",
       "      <th>Бесплатная</th>\n",
       "      <td>2</td>\n",
       "      <td>11</td>\n",
       "    </tr>\n",
       "    <tr>\n",
       "      <th>Платная</th>\n",
       "      <td>2</td>\n",
       "      <td>18</td>\n",
       "    </tr>\n",
       "    <tr>\n",
       "      <th rowspan=\"2\" valign=\"top\">район Новокосино</th>\n",
       "      <th>Бесплатная</th>\n",
       "      <td>1</td>\n",
       "      <td>1</td>\n",
       "    </tr>\n",
       "    <tr>\n",
       "      <th>Платная</th>\n",
       "      <td>4</td>\n",
       "      <td>25</td>\n",
       "    </tr>\n",
       "    <tr>\n",
       "      <th>район Перово</th>\n",
       "      <th>Бесплатная</th>\n",
       "      <td>5</td>\n",
       "      <td>35</td>\n",
       "    </tr>\n",
       "    <tr>\n",
       "      <th rowspan=\"2\" valign=\"top\">район Преображенское</th>\n",
       "      <th>Бесплатная</th>\n",
       "      <td>3</td>\n",
       "      <td>21</td>\n",
       "    </tr>\n",
       "    <tr>\n",
       "      <th>Платная</th>\n",
       "      <td>2</td>\n",
       "      <td>11</td>\n",
       "    </tr>\n",
       "    <tr>\n",
       "      <th rowspan=\"2\" valign=\"top\">район Северное Измайлово</th>\n",
       "      <th>Бесплатная</th>\n",
       "      <td>1</td>\n",
       "      <td>1</td>\n",
       "    </tr>\n",
       "    <tr>\n",
       "      <th>Платная</th>\n",
       "      <td>2</td>\n",
       "      <td>18</td>\n",
       "    </tr>\n",
       "    <tr>\n",
       "      <th rowspan=\"2\" valign=\"top\">район Соколиная Гора</th>\n",
       "      <th>Бесплатная</th>\n",
       "      <td>4</td>\n",
       "      <td>16</td>\n",
       "    </tr>\n",
       "    <tr>\n",
       "      <th>Платная</th>\n",
       "      <td>4</td>\n",
       "      <td>25</td>\n",
       "    </tr>\n",
       "    <tr>\n",
       "      <th>район Сокольники</th>\n",
       "      <th>Бесплатная</th>\n",
       "      <td>4</td>\n",
       "      <td>28</td>\n",
       "    </tr>\n",
       "  </tbody>\n",
       "</table>\n",
       "</div>"
      ],
      "text/plain": [
       "                                      count  sum\n",
       "District                  cost_type             \n",
       "Нижегородский район       Бесплатная      1    6\n",
       "район Богородское         Бесплатная      2   14\n",
       "                          Платная         1    8\n",
       "район Вешняки             Бесплатная      5   35\n",
       "                          Платная         3   17\n",
       "район Восточное Измайлово Бесплатная      1    8\n",
       "                          Платная         1   10\n",
       "район Гольяново           Бесплатная      2    9\n",
       "                          Платная         3   26\n",
       "район Ивановское          Бесплатная      2   16\n",
       "                          Платная         3   20\n",
       "район Измайлово           Бесплатная      2   11\n",
       "                          Платная         5   31\n",
       "район Косино-Ухтомский    Бесплатная      3   18\n",
       "                          Платная         7   47\n",
       "район Метрогородок        Бесплатная      4   18\n",
       "район Новогиреево         Бесплатная      2   11\n",
       "                          Платная         2   18\n",
       "район Новокосино          Бесплатная      1    1\n",
       "                          Платная         4   25\n",
       "район Перово              Бесплатная      5   35\n",
       "район Преображенское      Бесплатная      3   21\n",
       "                          Платная         2   11\n",
       "район Северное Измайлово  Бесплатная      1    1\n",
       "                          Платная         2   18\n",
       "район Соколиная Гора      Бесплатная      4   16\n",
       "                          Платная         4   25\n",
       "район Сокольники          Бесплатная      4   28"
      ]
     },
     "execution_count": 74,
     "metadata": {},
     "output_type": "execute_result"
    }
   ],
   "source": [
    "max"
   ]
  },
  {
   "cell_type": "code",
   "execution_count": null,
   "id": "ff39148e",
   "metadata": {},
   "outputs": [],
   "source": []
  }
 ],
 "metadata": {
  "kernelspec": {
   "display_name": "Python 3 (ipykernel)",
   "language": "python",
   "name": "python3"
  },
  "language_info": {
   "codemirror_mode": {
    "name": "ipython",
    "version": 3
   },
   "file_extension": ".py",
   "mimetype": "text/x-python",
   "name": "python",
   "nbconvert_exporter": "python",
   "pygments_lexer": "ipython3",
   "version": "3.11.2"
  }
 },
 "nbformat": 4,
 "nbformat_minor": 5
}
